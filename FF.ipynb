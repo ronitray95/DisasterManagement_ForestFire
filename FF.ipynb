{
  "cells": [
    {
      "cell_type": "markdown",
      "metadata": {
        "id": "view-in-github",
        "colab_type": "text"
      },
      "source": [
        "<a href=\"https://colab.research.google.com/github/ronitray95/DisasterManagement_ForestFire/blob/main/FF.ipynb\" target=\"_parent\"><img src=\"https://colab.research.google.com/assets/colab-badge.svg\" alt=\"Open In Colab\"/></a>"
      ]
    },
    {
      "cell_type": "markdown",
      "metadata": {
        "id": "cSJzRxLPfM0c"
      },
      "source": [
        "# Importing modules"
      ]
    },
    {
      "cell_type": "code",
      "execution_count": null,
      "metadata": {
        "id": "kCHh-yE1eceG"
      },
      "outputs": [],
      "source": [
        "import numpy as numpy\n",
        "import pandas as pd\n",
        "import matplotlib.pyplot as plt\n",
        "import plotly.express as px\n",
        "import seaborn as sns\n",
        "import numpy as np\n",
        "from mpl_toolkits.mplot3d import Axes3D \n",
        "from sklearn.svm import LinearSVC\n",
        "\n",
        "from sklearn import metrics,neural_network,linear_model,preprocessing,svm\n",
        "from sklearn.preprocessing import StandardScaler, MinMaxScaler\n",
        "from sklearn.decomposition import PCA\n",
        "from scipy.interpolate import griddata\n",
        "import scipy.cluster.hierarchy as sch\n",
        "from scipy import spatial\n",
        "import time\n",
        "import math\n",
        "import copy\n",
        "import gdown\n",
        "from string import ascii_uppercase\n",
        "\n",
        "from sklearn.model_selection import train_test_split,GridSearchCV\n",
        "import sklearn.metrics as metrics\n",
        "from sklearn.metrics import roc_curve, auc, roc_auc_score,accuracy_score, mean_squared_error, r2_score\n",
        "from sklearn.tree import export_graphviz\n",
        "from sklearn import tree\n",
        "import graphviz \n",
        "from sklearn.metrics import classification_report\n",
        "\n",
        "from sklearn.neighbors import KNeighborsClassifier\n",
        "from sklearn.ensemble import RandomForestClassifier,RandomForestRegressor,BaggingClassifier,VotingClassifier,AdaBoostClassifier,GradientBoostingClassifier\n",
        "from sklearn.tree import DecisionTreeClassifier,DecisionTreeRegressor\n",
        "from sklearn.linear_model import LogisticRegression\n",
        "from sklearn.svm import SVC,SVR\n",
        "\n",
        "from sklearn.feature_selection import SelectKBest, chi2, f_classif, mutual_info_classif\n",
        "import warnings\n",
        "from sklearn.exceptions import DataConversionWarning\n",
        "warnings.filterwarnings(action='ignore', category=DataConversionWarning)\n",
        "warnings.filterwarnings(action='ignore', category=UserWarning)"
      ]
    },
    {
      "cell_type": "markdown",
      "metadata": {
        "id": "6wlgyv9UfTXZ"
      },
      "source": [
        "## Load and read data"
      ]
    },
    {
      "cell_type": "code",
      "execution_count": null,
      "metadata": {
        "colab": {
          "base_uri": "https://localhost:8080/",
          "height": 221
        },
        "id": "mKJdxIgSfQxH",
        "outputId": "ea682766-48e0-455a-c991-c621fec50a4b"
      },
      "outputs": [
        {
          "output_type": "execute_result",
          "data": {
            "text/plain": [
              "'data.csv'"
            ],
            "application/vnd.google.colaboratory.intrinsic+json": {
              "type": "string"
            }
          },
          "metadata": {},
          "execution_count": 3
        }
      ],
      "source": [
        "gdown.download('https://docs.google.com/uc?export=download&id=1F56e5r6cI3hBfcyvz3YFw4Y03eAEdcAe','data.csv',quiet=True)"
      ]
    },
    {
      "cell_type": "code",
      "execution_count": null,
      "metadata": {
        "colab": {
          "base_uri": "https://localhost:8080/",
          "height": 270
        },
        "id": "J6JYkY9efq9b",
        "outputId": "a8d156d3-5aec-4989-fcc1-db66cda73e9b"
      },
      "outputs": [
        {
          "output_type": "execute_result",
          "data": {
            "text/plain": [
              "   X  Y month  day  FFMC   DMC     DC  ISI  temp  RH  wind  rain  area\n",
              "0  7  5   mar  fri  86.2  26.2   94.3  5.1   8.2  51   6.7   0.0   0.0\n",
              "1  7  4   oct  tue  90.6  35.4  669.1  6.7  18.0  33   0.9   0.0   0.0\n",
              "2  7  4   oct  sat  90.6  43.7  686.9  6.7  14.6  33   1.3   0.0   0.0\n",
              "3  8  6   mar  fri  91.7  33.3   77.5  9.0   8.3  97   4.0   0.2   0.0\n",
              "4  8  6   mar  sun  89.3  51.3  102.2  9.6  11.4  99   1.8   0.0   0.0"
            ],
            "text/html": [
              "\n",
              "  <div id=\"df-2ebc0ee5-a8c0-4c16-bc79-d9784adfda35\">\n",
              "    <div class=\"colab-df-container\">\n",
              "      <div>\n",
              "<style scoped>\n",
              "    .dataframe tbody tr th:only-of-type {\n",
              "        vertical-align: middle;\n",
              "    }\n",
              "\n",
              "    .dataframe tbody tr th {\n",
              "        vertical-align: top;\n",
              "    }\n",
              "\n",
              "    .dataframe thead th {\n",
              "        text-align: right;\n",
              "    }\n",
              "</style>\n",
              "<table border=\"1\" class=\"dataframe\">\n",
              "  <thead>\n",
              "    <tr style=\"text-align: right;\">\n",
              "      <th></th>\n",
              "      <th>X</th>\n",
              "      <th>Y</th>\n",
              "      <th>month</th>\n",
              "      <th>day</th>\n",
              "      <th>FFMC</th>\n",
              "      <th>DMC</th>\n",
              "      <th>DC</th>\n",
              "      <th>ISI</th>\n",
              "      <th>temp</th>\n",
              "      <th>RH</th>\n",
              "      <th>wind</th>\n",
              "      <th>rain</th>\n",
              "      <th>area</th>\n",
              "    </tr>\n",
              "  </thead>\n",
              "  <tbody>\n",
              "    <tr>\n",
              "      <th>0</th>\n",
              "      <td>7</td>\n",
              "      <td>5</td>\n",
              "      <td>mar</td>\n",
              "      <td>fri</td>\n",
              "      <td>86.2</td>\n",
              "      <td>26.2</td>\n",
              "      <td>94.3</td>\n",
              "      <td>5.1</td>\n",
              "      <td>8.2</td>\n",
              "      <td>51</td>\n",
              "      <td>6.7</td>\n",
              "      <td>0.0</td>\n",
              "      <td>0.0</td>\n",
              "    </tr>\n",
              "    <tr>\n",
              "      <th>1</th>\n",
              "      <td>7</td>\n",
              "      <td>4</td>\n",
              "      <td>oct</td>\n",
              "      <td>tue</td>\n",
              "      <td>90.6</td>\n",
              "      <td>35.4</td>\n",
              "      <td>669.1</td>\n",
              "      <td>6.7</td>\n",
              "      <td>18.0</td>\n",
              "      <td>33</td>\n",
              "      <td>0.9</td>\n",
              "      <td>0.0</td>\n",
              "      <td>0.0</td>\n",
              "    </tr>\n",
              "    <tr>\n",
              "      <th>2</th>\n",
              "      <td>7</td>\n",
              "      <td>4</td>\n",
              "      <td>oct</td>\n",
              "      <td>sat</td>\n",
              "      <td>90.6</td>\n",
              "      <td>43.7</td>\n",
              "      <td>686.9</td>\n",
              "      <td>6.7</td>\n",
              "      <td>14.6</td>\n",
              "      <td>33</td>\n",
              "      <td>1.3</td>\n",
              "      <td>0.0</td>\n",
              "      <td>0.0</td>\n",
              "    </tr>\n",
              "    <tr>\n",
              "      <th>3</th>\n",
              "      <td>8</td>\n",
              "      <td>6</td>\n",
              "      <td>mar</td>\n",
              "      <td>fri</td>\n",
              "      <td>91.7</td>\n",
              "      <td>33.3</td>\n",
              "      <td>77.5</td>\n",
              "      <td>9.0</td>\n",
              "      <td>8.3</td>\n",
              "      <td>97</td>\n",
              "      <td>4.0</td>\n",
              "      <td>0.2</td>\n",
              "      <td>0.0</td>\n",
              "    </tr>\n",
              "    <tr>\n",
              "      <th>4</th>\n",
              "      <td>8</td>\n",
              "      <td>6</td>\n",
              "      <td>mar</td>\n",
              "      <td>sun</td>\n",
              "      <td>89.3</td>\n",
              "      <td>51.3</td>\n",
              "      <td>102.2</td>\n",
              "      <td>9.6</td>\n",
              "      <td>11.4</td>\n",
              "      <td>99</td>\n",
              "      <td>1.8</td>\n",
              "      <td>0.0</td>\n",
              "      <td>0.0</td>\n",
              "    </tr>\n",
              "  </tbody>\n",
              "</table>\n",
              "</div>\n",
              "      <button class=\"colab-df-convert\" onclick=\"convertToInteractive('df-2ebc0ee5-a8c0-4c16-bc79-d9784adfda35')\"\n",
              "              title=\"Convert this dataframe to an interactive table.\"\n",
              "              style=\"display:none;\">\n",
              "        \n",
              "  <svg xmlns=\"http://www.w3.org/2000/svg\" height=\"24px\"viewBox=\"0 0 24 24\"\n",
              "       width=\"24px\">\n",
              "    <path d=\"M0 0h24v24H0V0z\" fill=\"none\"/>\n",
              "    <path d=\"M18.56 5.44l.94 2.06.94-2.06 2.06-.94-2.06-.94-.94-2.06-.94 2.06-2.06.94zm-11 1L8.5 8.5l.94-2.06 2.06-.94-2.06-.94L8.5 2.5l-.94 2.06-2.06.94zm10 10l.94 2.06.94-2.06 2.06-.94-2.06-.94-.94-2.06-.94 2.06-2.06.94z\"/><path d=\"M17.41 7.96l-1.37-1.37c-.4-.4-.92-.59-1.43-.59-.52 0-1.04.2-1.43.59L10.3 9.45l-7.72 7.72c-.78.78-.78 2.05 0 2.83L4 21.41c.39.39.9.59 1.41.59.51 0 1.02-.2 1.41-.59l7.78-7.78 2.81-2.81c.8-.78.8-2.07 0-2.86zM5.41 20L4 18.59l7.72-7.72 1.47 1.35L5.41 20z\"/>\n",
              "  </svg>\n",
              "      </button>\n",
              "      \n",
              "  <style>\n",
              "    .colab-df-container {\n",
              "      display:flex;\n",
              "      flex-wrap:wrap;\n",
              "      gap: 12px;\n",
              "    }\n",
              "\n",
              "    .colab-df-convert {\n",
              "      background-color: #E8F0FE;\n",
              "      border: none;\n",
              "      border-radius: 50%;\n",
              "      cursor: pointer;\n",
              "      display: none;\n",
              "      fill: #1967D2;\n",
              "      height: 32px;\n",
              "      padding: 0 0 0 0;\n",
              "      width: 32px;\n",
              "    }\n",
              "\n",
              "    .colab-df-convert:hover {\n",
              "      background-color: #E2EBFA;\n",
              "      box-shadow: 0px 1px 2px rgba(60, 64, 67, 0.3), 0px 1px 3px 1px rgba(60, 64, 67, 0.15);\n",
              "      fill: #174EA6;\n",
              "    }\n",
              "\n",
              "    [theme=dark] .colab-df-convert {\n",
              "      background-color: #3B4455;\n",
              "      fill: #D2E3FC;\n",
              "    }\n",
              "\n",
              "    [theme=dark] .colab-df-convert:hover {\n",
              "      background-color: #434B5C;\n",
              "      box-shadow: 0px 1px 3px 1px rgba(0, 0, 0, 0.15);\n",
              "      filter: drop-shadow(0px 1px 2px rgba(0, 0, 0, 0.3));\n",
              "      fill: #FFFFFF;\n",
              "    }\n",
              "  </style>\n",
              "\n",
              "      <script>\n",
              "        const buttonEl =\n",
              "          document.querySelector('#df-2ebc0ee5-a8c0-4c16-bc79-d9784adfda35 button.colab-df-convert');\n",
              "        buttonEl.style.display =\n",
              "          google.colab.kernel.accessAllowed ? 'block' : 'none';\n",
              "\n",
              "        async function convertToInteractive(key) {\n",
              "          const element = document.querySelector('#df-2ebc0ee5-a8c0-4c16-bc79-d9784adfda35');\n",
              "          const dataTable =\n",
              "            await google.colab.kernel.invokeFunction('convertToInteractive',\n",
              "                                                     [key], {});\n",
              "          if (!dataTable) return;\n",
              "\n",
              "          const docLinkHtml = 'Like what you see? Visit the ' +\n",
              "            '<a target=\"_blank\" href=https://colab.research.google.com/notebooks/data_table.ipynb>data table notebook</a>'\n",
              "            + ' to learn more about interactive tables.';\n",
              "          element.innerHTML = '';\n",
              "          dataTable['output_type'] = 'display_data';\n",
              "          await google.colab.output.renderOutput(dataTable, element);\n",
              "          const docLink = document.createElement('div');\n",
              "          docLink.innerHTML = docLinkHtml;\n",
              "          element.appendChild(docLink);\n",
              "        }\n",
              "      </script>\n",
              "    </div>\n",
              "  </div>\n",
              "  "
            ]
          },
          "metadata": {},
          "execution_count": 4
        }
      ],
      "source": [
        "dfAll = pd.read_csv(\"data.csv\")\n",
        "dfAll.head()"
      ]
    },
    {
      "cell_type": "code",
      "execution_count": null,
      "metadata": {
        "colab": {
          "base_uri": "https://localhost:8080/",
          "height": 364
        },
        "id": "6L0jwgRqgNrU",
        "outputId": "5fc4d28b-4e90-4b30-bb30-c110a017437a"
      },
      "outputs": [
        {
          "output_type": "execute_result",
          "data": {
            "text/plain": [
              "                X           Y        FFMC         DMC          DC         ISI  \\\n",
              "count  517.000000  517.000000  517.000000  517.000000  517.000000  517.000000   \n",
              "mean     4.669246    4.299807   90.644681  110.872340  547.940039    9.021663   \n",
              "std      2.313778    1.229900    5.520111   64.046482  248.066192    4.559477   \n",
              "min      1.000000    2.000000   18.700000    1.100000    7.900000    0.000000   \n",
              "25%      3.000000    4.000000   90.200000   68.600000  437.700000    6.500000   \n",
              "50%      4.000000    4.000000   91.600000  108.300000  664.200000    8.400000   \n",
              "75%      7.000000    5.000000   92.900000  142.400000  713.900000   10.800000   \n",
              "max      9.000000    9.000000   96.200000  291.300000  860.600000   56.100000   \n",
              "\n",
              "             temp          RH        wind        rain         area  \n",
              "count  517.000000  517.000000  517.000000  517.000000   517.000000  \n",
              "mean    18.889168   44.288201    4.017602    0.021663    12.847292  \n",
              "std      5.806625   16.317469    1.791653    0.295959    63.655818  \n",
              "min      2.200000   15.000000    0.400000    0.000000     0.000000  \n",
              "25%     15.500000   33.000000    2.700000    0.000000     0.000000  \n",
              "50%     19.300000   42.000000    4.000000    0.000000     0.520000  \n",
              "75%     22.800000   53.000000    4.900000    0.000000     6.570000  \n",
              "max     33.300000  100.000000    9.400000    6.400000  1090.840000  "
            ],
            "text/html": [
              "\n",
              "  <div id=\"df-aa8dbacc-fae6-45ab-bc76-4e3def8fc8e4\">\n",
              "    <div class=\"colab-df-container\">\n",
              "      <div>\n",
              "<style scoped>\n",
              "    .dataframe tbody tr th:only-of-type {\n",
              "        vertical-align: middle;\n",
              "    }\n",
              "\n",
              "    .dataframe tbody tr th {\n",
              "        vertical-align: top;\n",
              "    }\n",
              "\n",
              "    .dataframe thead th {\n",
              "        text-align: right;\n",
              "    }\n",
              "</style>\n",
              "<table border=\"1\" class=\"dataframe\">\n",
              "  <thead>\n",
              "    <tr style=\"text-align: right;\">\n",
              "      <th></th>\n",
              "      <th>X</th>\n",
              "      <th>Y</th>\n",
              "      <th>FFMC</th>\n",
              "      <th>DMC</th>\n",
              "      <th>DC</th>\n",
              "      <th>ISI</th>\n",
              "      <th>temp</th>\n",
              "      <th>RH</th>\n",
              "      <th>wind</th>\n",
              "      <th>rain</th>\n",
              "      <th>area</th>\n",
              "    </tr>\n",
              "  </thead>\n",
              "  <tbody>\n",
              "    <tr>\n",
              "      <th>count</th>\n",
              "      <td>517.000000</td>\n",
              "      <td>517.000000</td>\n",
              "      <td>517.000000</td>\n",
              "      <td>517.000000</td>\n",
              "      <td>517.000000</td>\n",
              "      <td>517.000000</td>\n",
              "      <td>517.000000</td>\n",
              "      <td>517.000000</td>\n",
              "      <td>517.000000</td>\n",
              "      <td>517.000000</td>\n",
              "      <td>517.000000</td>\n",
              "    </tr>\n",
              "    <tr>\n",
              "      <th>mean</th>\n",
              "      <td>4.669246</td>\n",
              "      <td>4.299807</td>\n",
              "      <td>90.644681</td>\n",
              "      <td>110.872340</td>\n",
              "      <td>547.940039</td>\n",
              "      <td>9.021663</td>\n",
              "      <td>18.889168</td>\n",
              "      <td>44.288201</td>\n",
              "      <td>4.017602</td>\n",
              "      <td>0.021663</td>\n",
              "      <td>12.847292</td>\n",
              "    </tr>\n",
              "    <tr>\n",
              "      <th>std</th>\n",
              "      <td>2.313778</td>\n",
              "      <td>1.229900</td>\n",
              "      <td>5.520111</td>\n",
              "      <td>64.046482</td>\n",
              "      <td>248.066192</td>\n",
              "      <td>4.559477</td>\n",
              "      <td>5.806625</td>\n",
              "      <td>16.317469</td>\n",
              "      <td>1.791653</td>\n",
              "      <td>0.295959</td>\n",
              "      <td>63.655818</td>\n",
              "    </tr>\n",
              "    <tr>\n",
              "      <th>min</th>\n",
              "      <td>1.000000</td>\n",
              "      <td>2.000000</td>\n",
              "      <td>18.700000</td>\n",
              "      <td>1.100000</td>\n",
              "      <td>7.900000</td>\n",
              "      <td>0.000000</td>\n",
              "      <td>2.200000</td>\n",
              "      <td>15.000000</td>\n",
              "      <td>0.400000</td>\n",
              "      <td>0.000000</td>\n",
              "      <td>0.000000</td>\n",
              "    </tr>\n",
              "    <tr>\n",
              "      <th>25%</th>\n",
              "      <td>3.000000</td>\n",
              "      <td>4.000000</td>\n",
              "      <td>90.200000</td>\n",
              "      <td>68.600000</td>\n",
              "      <td>437.700000</td>\n",
              "      <td>6.500000</td>\n",
              "      <td>15.500000</td>\n",
              "      <td>33.000000</td>\n",
              "      <td>2.700000</td>\n",
              "      <td>0.000000</td>\n",
              "      <td>0.000000</td>\n",
              "    </tr>\n",
              "    <tr>\n",
              "      <th>50%</th>\n",
              "      <td>4.000000</td>\n",
              "      <td>4.000000</td>\n",
              "      <td>91.600000</td>\n",
              "      <td>108.300000</td>\n",
              "      <td>664.200000</td>\n",
              "      <td>8.400000</td>\n",
              "      <td>19.300000</td>\n",
              "      <td>42.000000</td>\n",
              "      <td>4.000000</td>\n",
              "      <td>0.000000</td>\n",
              "      <td>0.520000</td>\n",
              "    </tr>\n",
              "    <tr>\n",
              "      <th>75%</th>\n",
              "      <td>7.000000</td>\n",
              "      <td>5.000000</td>\n",
              "      <td>92.900000</td>\n",
              "      <td>142.400000</td>\n",
              "      <td>713.900000</td>\n",
              "      <td>10.800000</td>\n",
              "      <td>22.800000</td>\n",
              "      <td>53.000000</td>\n",
              "      <td>4.900000</td>\n",
              "      <td>0.000000</td>\n",
              "      <td>6.570000</td>\n",
              "    </tr>\n",
              "    <tr>\n",
              "      <th>max</th>\n",
              "      <td>9.000000</td>\n",
              "      <td>9.000000</td>\n",
              "      <td>96.200000</td>\n",
              "      <td>291.300000</td>\n",
              "      <td>860.600000</td>\n",
              "      <td>56.100000</td>\n",
              "      <td>33.300000</td>\n",
              "      <td>100.000000</td>\n",
              "      <td>9.400000</td>\n",
              "      <td>6.400000</td>\n",
              "      <td>1090.840000</td>\n",
              "    </tr>\n",
              "  </tbody>\n",
              "</table>\n",
              "</div>\n",
              "      <button class=\"colab-df-convert\" onclick=\"convertToInteractive('df-aa8dbacc-fae6-45ab-bc76-4e3def8fc8e4')\"\n",
              "              title=\"Convert this dataframe to an interactive table.\"\n",
              "              style=\"display:none;\">\n",
              "        \n",
              "  <svg xmlns=\"http://www.w3.org/2000/svg\" height=\"24px\"viewBox=\"0 0 24 24\"\n",
              "       width=\"24px\">\n",
              "    <path d=\"M0 0h24v24H0V0z\" fill=\"none\"/>\n",
              "    <path d=\"M18.56 5.44l.94 2.06.94-2.06 2.06-.94-2.06-.94-.94-2.06-.94 2.06-2.06.94zm-11 1L8.5 8.5l.94-2.06 2.06-.94-2.06-.94L8.5 2.5l-.94 2.06-2.06.94zm10 10l.94 2.06.94-2.06 2.06-.94-2.06-.94-.94-2.06-.94 2.06-2.06.94z\"/><path d=\"M17.41 7.96l-1.37-1.37c-.4-.4-.92-.59-1.43-.59-.52 0-1.04.2-1.43.59L10.3 9.45l-7.72 7.72c-.78.78-.78 2.05 0 2.83L4 21.41c.39.39.9.59 1.41.59.51 0 1.02-.2 1.41-.59l7.78-7.78 2.81-2.81c.8-.78.8-2.07 0-2.86zM5.41 20L4 18.59l7.72-7.72 1.47 1.35L5.41 20z\"/>\n",
              "  </svg>\n",
              "      </button>\n",
              "      \n",
              "  <style>\n",
              "    .colab-df-container {\n",
              "      display:flex;\n",
              "      flex-wrap:wrap;\n",
              "      gap: 12px;\n",
              "    }\n",
              "\n",
              "    .colab-df-convert {\n",
              "      background-color: #E8F0FE;\n",
              "      border: none;\n",
              "      border-radius: 50%;\n",
              "      cursor: pointer;\n",
              "      display: none;\n",
              "      fill: #1967D2;\n",
              "      height: 32px;\n",
              "      padding: 0 0 0 0;\n",
              "      width: 32px;\n",
              "    }\n",
              "\n",
              "    .colab-df-convert:hover {\n",
              "      background-color: #E2EBFA;\n",
              "      box-shadow: 0px 1px 2px rgba(60, 64, 67, 0.3), 0px 1px 3px 1px rgba(60, 64, 67, 0.15);\n",
              "      fill: #174EA6;\n",
              "    }\n",
              "\n",
              "    [theme=dark] .colab-df-convert {\n",
              "      background-color: #3B4455;\n",
              "      fill: #D2E3FC;\n",
              "    }\n",
              "\n",
              "    [theme=dark] .colab-df-convert:hover {\n",
              "      background-color: #434B5C;\n",
              "      box-shadow: 0px 1px 3px 1px rgba(0, 0, 0, 0.15);\n",
              "      filter: drop-shadow(0px 1px 2px rgba(0, 0, 0, 0.3));\n",
              "      fill: #FFFFFF;\n",
              "    }\n",
              "  </style>\n",
              "\n",
              "      <script>\n",
              "        const buttonEl =\n",
              "          document.querySelector('#df-aa8dbacc-fae6-45ab-bc76-4e3def8fc8e4 button.colab-df-convert');\n",
              "        buttonEl.style.display =\n",
              "          google.colab.kernel.accessAllowed ? 'block' : 'none';\n",
              "\n",
              "        async function convertToInteractive(key) {\n",
              "          const element = document.querySelector('#df-aa8dbacc-fae6-45ab-bc76-4e3def8fc8e4');\n",
              "          const dataTable =\n",
              "            await google.colab.kernel.invokeFunction('convertToInteractive',\n",
              "                                                     [key], {});\n",
              "          if (!dataTable) return;\n",
              "\n",
              "          const docLinkHtml = 'Like what you see? Visit the ' +\n",
              "            '<a target=\"_blank\" href=https://colab.research.google.com/notebooks/data_table.ipynb>data table notebook</a>'\n",
              "            + ' to learn more about interactive tables.';\n",
              "          element.innerHTML = '';\n",
              "          dataTable['output_type'] = 'display_data';\n",
              "          await google.colab.output.renderOutput(dataTable, element);\n",
              "          const docLink = document.createElement('div');\n",
              "          docLink.innerHTML = docLinkHtml;\n",
              "          element.appendChild(docLink);\n",
              "        }\n",
              "      </script>\n",
              "    </div>\n",
              "  </div>\n",
              "  "
            ]
          },
          "metadata": {},
          "execution_count": 5
        }
      ],
      "source": [
        "dfAll.describe()"
      ]
    },
    {
      "cell_type": "code",
      "execution_count": null,
      "metadata": {
        "id": "mo0XXTEhapPh"
      },
      "outputs": [],
      "source": [
        "from calendar import month_abbr,day_abbr\n",
        "\n",
        "lower_ma = [m.lower() for m in month_abbr]\n",
        "\n",
        "dfAll['month'] = dfAll['month'].str.lower().map(lambda m: lower_ma.index(m)).astype('Int8')\n",
        "\n",
        "lower_ma = [m.lower() for m in day_abbr]\n",
        "\n",
        "dfAll['day'] = dfAll['day'].str.lower().map(lambda m: lower_ma.index(m)).astype('Int8')"
      ]
    },
    {
      "cell_type": "code",
      "execution_count": null,
      "metadata": {
        "colab": {
          "base_uri": "https://localhost:8080/",
          "height": 488
        },
        "id": "Iq6Wu5wxTnKa",
        "outputId": "732ae66e-23b5-48ce-a14b-857a6a9e377d"
      },
      "outputs": [
        {
          "output_type": "execute_result",
          "data": {
            "text/plain": [
              "     X  Y  month  day  FFMC    DMC     DC   ISI  temp  RH  wind  rain   area\n",
              "138  9  9      7    1  85.8   48.3  313.4   3.9  18.0  42   2.7   0.0   0.36\n",
              "139  1  4      9    1  91.0  129.5  692.6   7.0  21.7  38   2.2   0.0   0.43\n",
              "140  2  5      9    0  90.9  126.5  686.5   7.0  21.9  39   1.8   0.0   0.47\n",
              "141  1  2      8    2  95.5   99.9  513.3  13.2  23.3  31   4.5   0.0   0.55\n",
              "142  8  6      8    4  90.1  108.0  529.8  12.5  21.2  51   8.9   0.0   0.61\n",
              "..  .. ..    ...  ...   ...    ...    ...   ...   ...  ..   ...   ...    ...\n",
              "509  5  4      8    4  91.0  166.9  752.6   7.1  21.1  71   7.6   1.4   2.17\n",
              "510  6  5      8    4  91.0  166.9  752.6   7.1  18.2  62   5.4   0.0   0.43\n",
              "512  4  3      8    6  81.6   56.7  665.6   1.9  27.8  32   2.7   0.0   6.44\n",
              "513  2  4      8    6  81.6   56.7  665.6   1.9  21.9  71   5.8   0.0  54.29\n",
              "514  7  4      8    6  81.6   56.7  665.6   1.9  21.2  70   6.7   0.0  11.16\n",
              "\n",
              "[270 rows x 13 columns]"
            ],
            "text/html": [
              "\n",
              "  <div id=\"df-b200be36-42f8-4714-b6ed-d2d4de9515b8\">\n",
              "    <div class=\"colab-df-container\">\n",
              "      <div>\n",
              "<style scoped>\n",
              "    .dataframe tbody tr th:only-of-type {\n",
              "        vertical-align: middle;\n",
              "    }\n",
              "\n",
              "    .dataframe tbody tr th {\n",
              "        vertical-align: top;\n",
              "    }\n",
              "\n",
              "    .dataframe thead th {\n",
              "        text-align: right;\n",
              "    }\n",
              "</style>\n",
              "<table border=\"1\" class=\"dataframe\">\n",
              "  <thead>\n",
              "    <tr style=\"text-align: right;\">\n",
              "      <th></th>\n",
              "      <th>X</th>\n",
              "      <th>Y</th>\n",
              "      <th>month</th>\n",
              "      <th>day</th>\n",
              "      <th>FFMC</th>\n",
              "      <th>DMC</th>\n",
              "      <th>DC</th>\n",
              "      <th>ISI</th>\n",
              "      <th>temp</th>\n",
              "      <th>RH</th>\n",
              "      <th>wind</th>\n",
              "      <th>rain</th>\n",
              "      <th>area</th>\n",
              "    </tr>\n",
              "  </thead>\n",
              "  <tbody>\n",
              "    <tr>\n",
              "      <th>138</th>\n",
              "      <td>9</td>\n",
              "      <td>9</td>\n",
              "      <td>7</td>\n",
              "      <td>1</td>\n",
              "      <td>85.8</td>\n",
              "      <td>48.3</td>\n",
              "      <td>313.4</td>\n",
              "      <td>3.9</td>\n",
              "      <td>18.0</td>\n",
              "      <td>42</td>\n",
              "      <td>2.7</td>\n",
              "      <td>0.0</td>\n",
              "      <td>0.36</td>\n",
              "    </tr>\n",
              "    <tr>\n",
              "      <th>139</th>\n",
              "      <td>1</td>\n",
              "      <td>4</td>\n",
              "      <td>9</td>\n",
              "      <td>1</td>\n",
              "      <td>91.0</td>\n",
              "      <td>129.5</td>\n",
              "      <td>692.6</td>\n",
              "      <td>7.0</td>\n",
              "      <td>21.7</td>\n",
              "      <td>38</td>\n",
              "      <td>2.2</td>\n",
              "      <td>0.0</td>\n",
              "      <td>0.43</td>\n",
              "    </tr>\n",
              "    <tr>\n",
              "      <th>140</th>\n",
              "      <td>2</td>\n",
              "      <td>5</td>\n",
              "      <td>9</td>\n",
              "      <td>0</td>\n",
              "      <td>90.9</td>\n",
              "      <td>126.5</td>\n",
              "      <td>686.5</td>\n",
              "      <td>7.0</td>\n",
              "      <td>21.9</td>\n",
              "      <td>39</td>\n",
              "      <td>1.8</td>\n",
              "      <td>0.0</td>\n",
              "      <td>0.47</td>\n",
              "    </tr>\n",
              "    <tr>\n",
              "      <th>141</th>\n",
              "      <td>1</td>\n",
              "      <td>2</td>\n",
              "      <td>8</td>\n",
              "      <td>2</td>\n",
              "      <td>95.5</td>\n",
              "      <td>99.9</td>\n",
              "      <td>513.3</td>\n",
              "      <td>13.2</td>\n",
              "      <td>23.3</td>\n",
              "      <td>31</td>\n",
              "      <td>4.5</td>\n",
              "      <td>0.0</td>\n",
              "      <td>0.55</td>\n",
              "    </tr>\n",
              "    <tr>\n",
              "      <th>142</th>\n",
              "      <td>8</td>\n",
              "      <td>6</td>\n",
              "      <td>8</td>\n",
              "      <td>4</td>\n",
              "      <td>90.1</td>\n",
              "      <td>108.0</td>\n",
              "      <td>529.8</td>\n",
              "      <td>12.5</td>\n",
              "      <td>21.2</td>\n",
              "      <td>51</td>\n",
              "      <td>8.9</td>\n",
              "      <td>0.0</td>\n",
              "      <td>0.61</td>\n",
              "    </tr>\n",
              "    <tr>\n",
              "      <th>...</th>\n",
              "      <td>...</td>\n",
              "      <td>...</td>\n",
              "      <td>...</td>\n",
              "      <td>...</td>\n",
              "      <td>...</td>\n",
              "      <td>...</td>\n",
              "      <td>...</td>\n",
              "      <td>...</td>\n",
              "      <td>...</td>\n",
              "      <td>...</td>\n",
              "      <td>...</td>\n",
              "      <td>...</td>\n",
              "      <td>...</td>\n",
              "    </tr>\n",
              "    <tr>\n",
              "      <th>509</th>\n",
              "      <td>5</td>\n",
              "      <td>4</td>\n",
              "      <td>8</td>\n",
              "      <td>4</td>\n",
              "      <td>91.0</td>\n",
              "      <td>166.9</td>\n",
              "      <td>752.6</td>\n",
              "      <td>7.1</td>\n",
              "      <td>21.1</td>\n",
              "      <td>71</td>\n",
              "      <td>7.6</td>\n",
              "      <td>1.4</td>\n",
              "      <td>2.17</td>\n",
              "    </tr>\n",
              "    <tr>\n",
              "      <th>510</th>\n",
              "      <td>6</td>\n",
              "      <td>5</td>\n",
              "      <td>8</td>\n",
              "      <td>4</td>\n",
              "      <td>91.0</td>\n",
              "      <td>166.9</td>\n",
              "      <td>752.6</td>\n",
              "      <td>7.1</td>\n",
              "      <td>18.2</td>\n",
              "      <td>62</td>\n",
              "      <td>5.4</td>\n",
              "      <td>0.0</td>\n",
              "      <td>0.43</td>\n",
              "    </tr>\n",
              "    <tr>\n",
              "      <th>512</th>\n",
              "      <td>4</td>\n",
              "      <td>3</td>\n",
              "      <td>8</td>\n",
              "      <td>6</td>\n",
              "      <td>81.6</td>\n",
              "      <td>56.7</td>\n",
              "      <td>665.6</td>\n",
              "      <td>1.9</td>\n",
              "      <td>27.8</td>\n",
              "      <td>32</td>\n",
              "      <td>2.7</td>\n",
              "      <td>0.0</td>\n",
              "      <td>6.44</td>\n",
              "    </tr>\n",
              "    <tr>\n",
              "      <th>513</th>\n",
              "      <td>2</td>\n",
              "      <td>4</td>\n",
              "      <td>8</td>\n",
              "      <td>6</td>\n",
              "      <td>81.6</td>\n",
              "      <td>56.7</td>\n",
              "      <td>665.6</td>\n",
              "      <td>1.9</td>\n",
              "      <td>21.9</td>\n",
              "      <td>71</td>\n",
              "      <td>5.8</td>\n",
              "      <td>0.0</td>\n",
              "      <td>54.29</td>\n",
              "    </tr>\n",
              "    <tr>\n",
              "      <th>514</th>\n",
              "      <td>7</td>\n",
              "      <td>4</td>\n",
              "      <td>8</td>\n",
              "      <td>6</td>\n",
              "      <td>81.6</td>\n",
              "      <td>56.7</td>\n",
              "      <td>665.6</td>\n",
              "      <td>1.9</td>\n",
              "      <td>21.2</td>\n",
              "      <td>70</td>\n",
              "      <td>6.7</td>\n",
              "      <td>0.0</td>\n",
              "      <td>11.16</td>\n",
              "    </tr>\n",
              "  </tbody>\n",
              "</table>\n",
              "<p>270 rows × 13 columns</p>\n",
              "</div>\n",
              "      <button class=\"colab-df-convert\" onclick=\"convertToInteractive('df-b200be36-42f8-4714-b6ed-d2d4de9515b8')\"\n",
              "              title=\"Convert this dataframe to an interactive table.\"\n",
              "              style=\"display:none;\">\n",
              "        \n",
              "  <svg xmlns=\"http://www.w3.org/2000/svg\" height=\"24px\"viewBox=\"0 0 24 24\"\n",
              "       width=\"24px\">\n",
              "    <path d=\"M0 0h24v24H0V0z\" fill=\"none\"/>\n",
              "    <path d=\"M18.56 5.44l.94 2.06.94-2.06 2.06-.94-2.06-.94-.94-2.06-.94 2.06-2.06.94zm-11 1L8.5 8.5l.94-2.06 2.06-.94-2.06-.94L8.5 2.5l-.94 2.06-2.06.94zm10 10l.94 2.06.94-2.06 2.06-.94-2.06-.94-.94-2.06-.94 2.06-2.06.94z\"/><path d=\"M17.41 7.96l-1.37-1.37c-.4-.4-.92-.59-1.43-.59-.52 0-1.04.2-1.43.59L10.3 9.45l-7.72 7.72c-.78.78-.78 2.05 0 2.83L4 21.41c.39.39.9.59 1.41.59.51 0 1.02-.2 1.41-.59l7.78-7.78 2.81-2.81c.8-.78.8-2.07 0-2.86zM5.41 20L4 18.59l7.72-7.72 1.47 1.35L5.41 20z\"/>\n",
              "  </svg>\n",
              "      </button>\n",
              "      \n",
              "  <style>\n",
              "    .colab-df-container {\n",
              "      display:flex;\n",
              "      flex-wrap:wrap;\n",
              "      gap: 12px;\n",
              "    }\n",
              "\n",
              "    .colab-df-convert {\n",
              "      background-color: #E8F0FE;\n",
              "      border: none;\n",
              "      border-radius: 50%;\n",
              "      cursor: pointer;\n",
              "      display: none;\n",
              "      fill: #1967D2;\n",
              "      height: 32px;\n",
              "      padding: 0 0 0 0;\n",
              "      width: 32px;\n",
              "    }\n",
              "\n",
              "    .colab-df-convert:hover {\n",
              "      background-color: #E2EBFA;\n",
              "      box-shadow: 0px 1px 2px rgba(60, 64, 67, 0.3), 0px 1px 3px 1px rgba(60, 64, 67, 0.15);\n",
              "      fill: #174EA6;\n",
              "    }\n",
              "\n",
              "    [theme=dark] .colab-df-convert {\n",
              "      background-color: #3B4455;\n",
              "      fill: #D2E3FC;\n",
              "    }\n",
              "\n",
              "    [theme=dark] .colab-df-convert:hover {\n",
              "      background-color: #434B5C;\n",
              "      box-shadow: 0px 1px 3px 1px rgba(0, 0, 0, 0.15);\n",
              "      filter: drop-shadow(0px 1px 2px rgba(0, 0, 0, 0.3));\n",
              "      fill: #FFFFFF;\n",
              "    }\n",
              "  </style>\n",
              "\n",
              "      <script>\n",
              "        const buttonEl =\n",
              "          document.querySelector('#df-b200be36-42f8-4714-b6ed-d2d4de9515b8 button.colab-df-convert');\n",
              "        buttonEl.style.display =\n",
              "          google.colab.kernel.accessAllowed ? 'block' : 'none';\n",
              "\n",
              "        async function convertToInteractive(key) {\n",
              "          const element = document.querySelector('#df-b200be36-42f8-4714-b6ed-d2d4de9515b8');\n",
              "          const dataTable =\n",
              "            await google.colab.kernel.invokeFunction('convertToInteractive',\n",
              "                                                     [key], {});\n",
              "          if (!dataTable) return;\n",
              "\n",
              "          const docLinkHtml = 'Like what you see? Visit the ' +\n",
              "            '<a target=\"_blank\" href=https://colab.research.google.com/notebooks/data_table.ipynb>data table notebook</a>'\n",
              "            + ' to learn more about interactive tables.';\n",
              "          element.innerHTML = '';\n",
              "          dataTable['output_type'] = 'display_data';\n",
              "          await google.colab.output.renderOutput(dataTable, element);\n",
              "          const docLink = document.createElement('div');\n",
              "          docLink.innerHTML = docLinkHtml;\n",
              "          element.appendChild(docLink);\n",
              "        }\n",
              "      </script>\n",
              "    </div>\n",
              "  </div>\n",
              "  "
            ]
          },
          "metadata": {},
          "execution_count": 7
        }
      ],
      "source": [
        "# remove area=0\n",
        "df = dfAll[dfAll.area != 0.0]\n",
        "df"
      ]
    },
    {
      "cell_type": "code",
      "execution_count": null,
      "metadata": {
        "colab": {
          "base_uri": "https://localhost:8080/",
          "height": 364
        },
        "id": "me2pO52QT-qy",
        "outputId": "97398ba2-2258-424c-a3e4-0064cdd88c9f"
      },
      "outputs": [
        {
          "output_type": "execute_result",
          "data": {
            "text/plain": [
              "                X           Y       month         day        FFMC         DMC  \\\n",
              "count  270.000000  270.000000  270.000000  270.000000  270.000000  270.000000   \n",
              "mean     4.807407    4.366667    7.759259    3.174074   91.034074  114.707778   \n",
              "std      2.383326    1.170740    2.115048    2.070162    3.709020   61.786520   \n",
              "min      1.000000    2.000000    2.000000    0.000000   63.500000    3.200000   \n",
              "25%      3.000000    4.000000    8.000000    1.000000   90.325000   82.900000   \n",
              "50%      5.000000    4.000000    8.000000    3.000000   91.700000  111.700000   \n",
              "75%      7.000000    5.000000    9.000000    5.000000   92.975000  141.300000   \n",
              "max      9.000000    9.000000   12.000000    6.000000   96.200000  291.300000   \n",
              "\n",
              "               DC         ISI        temp          RH        wind        rain  \\\n",
              "count  270.000000  270.000000  270.000000  270.000000  270.000000  270.000000   \n",
              "mean   570.867037    9.177037   19.311111   43.733333    4.112963    0.028889   \n",
              "std    229.981242    4.147350    6.179444   15.080059    1.884573    0.398392   \n",
              "min     15.300000    0.800000    2.200000   15.000000    0.400000    0.000000   \n",
              "25%    486.500000    6.800000   16.125000   33.000000    2.700000    0.000000   \n",
              "50%    665.600000    8.400000   20.100000   41.000000    4.000000    0.000000   \n",
              "75%    721.325000   11.375000   23.400000   53.000000    4.900000    0.000000   \n",
              "max    860.600000   22.700000   33.300000   96.000000    9.400000    6.400000   \n",
              "\n",
              "              area  \n",
              "count   270.000000  \n",
              "mean     24.600185  \n",
              "std      86.501635  \n",
              "min       0.090000  \n",
              "25%       2.140000  \n",
              "50%       6.370000  \n",
              "75%      15.422500  \n",
              "max    1090.840000  "
            ],
            "text/html": [
              "\n",
              "  <div id=\"df-f382d377-9229-47e7-85e5-cbf2bdbceaa1\">\n",
              "    <div class=\"colab-df-container\">\n",
              "      <div>\n",
              "<style scoped>\n",
              "    .dataframe tbody tr th:only-of-type {\n",
              "        vertical-align: middle;\n",
              "    }\n",
              "\n",
              "    .dataframe tbody tr th {\n",
              "        vertical-align: top;\n",
              "    }\n",
              "\n",
              "    .dataframe thead th {\n",
              "        text-align: right;\n",
              "    }\n",
              "</style>\n",
              "<table border=\"1\" class=\"dataframe\">\n",
              "  <thead>\n",
              "    <tr style=\"text-align: right;\">\n",
              "      <th></th>\n",
              "      <th>X</th>\n",
              "      <th>Y</th>\n",
              "      <th>month</th>\n",
              "      <th>day</th>\n",
              "      <th>FFMC</th>\n",
              "      <th>DMC</th>\n",
              "      <th>DC</th>\n",
              "      <th>ISI</th>\n",
              "      <th>temp</th>\n",
              "      <th>RH</th>\n",
              "      <th>wind</th>\n",
              "      <th>rain</th>\n",
              "      <th>area</th>\n",
              "    </tr>\n",
              "  </thead>\n",
              "  <tbody>\n",
              "    <tr>\n",
              "      <th>count</th>\n",
              "      <td>270.000000</td>\n",
              "      <td>270.000000</td>\n",
              "      <td>270.000000</td>\n",
              "      <td>270.000000</td>\n",
              "      <td>270.000000</td>\n",
              "      <td>270.000000</td>\n",
              "      <td>270.000000</td>\n",
              "      <td>270.000000</td>\n",
              "      <td>270.000000</td>\n",
              "      <td>270.000000</td>\n",
              "      <td>270.000000</td>\n",
              "      <td>270.000000</td>\n",
              "      <td>270.000000</td>\n",
              "    </tr>\n",
              "    <tr>\n",
              "      <th>mean</th>\n",
              "      <td>4.807407</td>\n",
              "      <td>4.366667</td>\n",
              "      <td>7.759259</td>\n",
              "      <td>3.174074</td>\n",
              "      <td>91.034074</td>\n",
              "      <td>114.707778</td>\n",
              "      <td>570.867037</td>\n",
              "      <td>9.177037</td>\n",
              "      <td>19.311111</td>\n",
              "      <td>43.733333</td>\n",
              "      <td>4.112963</td>\n",
              "      <td>0.028889</td>\n",
              "      <td>24.600185</td>\n",
              "    </tr>\n",
              "    <tr>\n",
              "      <th>std</th>\n",
              "      <td>2.383326</td>\n",
              "      <td>1.170740</td>\n",
              "      <td>2.115048</td>\n",
              "      <td>2.070162</td>\n",
              "      <td>3.709020</td>\n",
              "      <td>61.786520</td>\n",
              "      <td>229.981242</td>\n",
              "      <td>4.147350</td>\n",
              "      <td>6.179444</td>\n",
              "      <td>15.080059</td>\n",
              "      <td>1.884573</td>\n",
              "      <td>0.398392</td>\n",
              "      <td>86.501635</td>\n",
              "    </tr>\n",
              "    <tr>\n",
              "      <th>min</th>\n",
              "      <td>1.000000</td>\n",
              "      <td>2.000000</td>\n",
              "      <td>2.000000</td>\n",
              "      <td>0.000000</td>\n",
              "      <td>63.500000</td>\n",
              "      <td>3.200000</td>\n",
              "      <td>15.300000</td>\n",
              "      <td>0.800000</td>\n",
              "      <td>2.200000</td>\n",
              "      <td>15.000000</td>\n",
              "      <td>0.400000</td>\n",
              "      <td>0.000000</td>\n",
              "      <td>0.090000</td>\n",
              "    </tr>\n",
              "    <tr>\n",
              "      <th>25%</th>\n",
              "      <td>3.000000</td>\n",
              "      <td>4.000000</td>\n",
              "      <td>8.000000</td>\n",
              "      <td>1.000000</td>\n",
              "      <td>90.325000</td>\n",
              "      <td>82.900000</td>\n",
              "      <td>486.500000</td>\n",
              "      <td>6.800000</td>\n",
              "      <td>16.125000</td>\n",
              "      <td>33.000000</td>\n",
              "      <td>2.700000</td>\n",
              "      <td>0.000000</td>\n",
              "      <td>2.140000</td>\n",
              "    </tr>\n",
              "    <tr>\n",
              "      <th>50%</th>\n",
              "      <td>5.000000</td>\n",
              "      <td>4.000000</td>\n",
              "      <td>8.000000</td>\n",
              "      <td>3.000000</td>\n",
              "      <td>91.700000</td>\n",
              "      <td>111.700000</td>\n",
              "      <td>665.600000</td>\n",
              "      <td>8.400000</td>\n",
              "      <td>20.100000</td>\n",
              "      <td>41.000000</td>\n",
              "      <td>4.000000</td>\n",
              "      <td>0.000000</td>\n",
              "      <td>6.370000</td>\n",
              "    </tr>\n",
              "    <tr>\n",
              "      <th>75%</th>\n",
              "      <td>7.000000</td>\n",
              "      <td>5.000000</td>\n",
              "      <td>9.000000</td>\n",
              "      <td>5.000000</td>\n",
              "      <td>92.975000</td>\n",
              "      <td>141.300000</td>\n",
              "      <td>721.325000</td>\n",
              "      <td>11.375000</td>\n",
              "      <td>23.400000</td>\n",
              "      <td>53.000000</td>\n",
              "      <td>4.900000</td>\n",
              "      <td>0.000000</td>\n",
              "      <td>15.422500</td>\n",
              "    </tr>\n",
              "    <tr>\n",
              "      <th>max</th>\n",
              "      <td>9.000000</td>\n",
              "      <td>9.000000</td>\n",
              "      <td>12.000000</td>\n",
              "      <td>6.000000</td>\n",
              "      <td>96.200000</td>\n",
              "      <td>291.300000</td>\n",
              "      <td>860.600000</td>\n",
              "      <td>22.700000</td>\n",
              "      <td>33.300000</td>\n",
              "      <td>96.000000</td>\n",
              "      <td>9.400000</td>\n",
              "      <td>6.400000</td>\n",
              "      <td>1090.840000</td>\n",
              "    </tr>\n",
              "  </tbody>\n",
              "</table>\n",
              "</div>\n",
              "      <button class=\"colab-df-convert\" onclick=\"convertToInteractive('df-f382d377-9229-47e7-85e5-cbf2bdbceaa1')\"\n",
              "              title=\"Convert this dataframe to an interactive table.\"\n",
              "              style=\"display:none;\">\n",
              "        \n",
              "  <svg xmlns=\"http://www.w3.org/2000/svg\" height=\"24px\"viewBox=\"0 0 24 24\"\n",
              "       width=\"24px\">\n",
              "    <path d=\"M0 0h24v24H0V0z\" fill=\"none\"/>\n",
              "    <path d=\"M18.56 5.44l.94 2.06.94-2.06 2.06-.94-2.06-.94-.94-2.06-.94 2.06-2.06.94zm-11 1L8.5 8.5l.94-2.06 2.06-.94-2.06-.94L8.5 2.5l-.94 2.06-2.06.94zm10 10l.94 2.06.94-2.06 2.06-.94-2.06-.94-.94-2.06-.94 2.06-2.06.94z\"/><path d=\"M17.41 7.96l-1.37-1.37c-.4-.4-.92-.59-1.43-.59-.52 0-1.04.2-1.43.59L10.3 9.45l-7.72 7.72c-.78.78-.78 2.05 0 2.83L4 21.41c.39.39.9.59 1.41.59.51 0 1.02-.2 1.41-.59l7.78-7.78 2.81-2.81c.8-.78.8-2.07 0-2.86zM5.41 20L4 18.59l7.72-7.72 1.47 1.35L5.41 20z\"/>\n",
              "  </svg>\n",
              "      </button>\n",
              "      \n",
              "  <style>\n",
              "    .colab-df-container {\n",
              "      display:flex;\n",
              "      flex-wrap:wrap;\n",
              "      gap: 12px;\n",
              "    }\n",
              "\n",
              "    .colab-df-convert {\n",
              "      background-color: #E8F0FE;\n",
              "      border: none;\n",
              "      border-radius: 50%;\n",
              "      cursor: pointer;\n",
              "      display: none;\n",
              "      fill: #1967D2;\n",
              "      height: 32px;\n",
              "      padding: 0 0 0 0;\n",
              "      width: 32px;\n",
              "    }\n",
              "\n",
              "    .colab-df-convert:hover {\n",
              "      background-color: #E2EBFA;\n",
              "      box-shadow: 0px 1px 2px rgba(60, 64, 67, 0.3), 0px 1px 3px 1px rgba(60, 64, 67, 0.15);\n",
              "      fill: #174EA6;\n",
              "    }\n",
              "\n",
              "    [theme=dark] .colab-df-convert {\n",
              "      background-color: #3B4455;\n",
              "      fill: #D2E3FC;\n",
              "    }\n",
              "\n",
              "    [theme=dark] .colab-df-convert:hover {\n",
              "      background-color: #434B5C;\n",
              "      box-shadow: 0px 1px 3px 1px rgba(0, 0, 0, 0.15);\n",
              "      filter: drop-shadow(0px 1px 2px rgba(0, 0, 0, 0.3));\n",
              "      fill: #FFFFFF;\n",
              "    }\n",
              "  </style>\n",
              "\n",
              "      <script>\n",
              "        const buttonEl =\n",
              "          document.querySelector('#df-f382d377-9229-47e7-85e5-cbf2bdbceaa1 button.colab-df-convert');\n",
              "        buttonEl.style.display =\n",
              "          google.colab.kernel.accessAllowed ? 'block' : 'none';\n",
              "\n",
              "        async function convertToInteractive(key) {\n",
              "          const element = document.querySelector('#df-f382d377-9229-47e7-85e5-cbf2bdbceaa1');\n",
              "          const dataTable =\n",
              "            await google.colab.kernel.invokeFunction('convertToInteractive',\n",
              "                                                     [key], {});\n",
              "          if (!dataTable) return;\n",
              "\n",
              "          const docLinkHtml = 'Like what you see? Visit the ' +\n",
              "            '<a target=\"_blank\" href=https://colab.research.google.com/notebooks/data_table.ipynb>data table notebook</a>'\n",
              "            + ' to learn more about interactive tables.';\n",
              "          element.innerHTML = '';\n",
              "          dataTable['output_type'] = 'display_data';\n",
              "          await google.colab.output.renderOutput(dataTable, element);\n",
              "          const docLink = document.createElement('div');\n",
              "          docLink.innerHTML = docLinkHtml;\n",
              "          element.appendChild(docLink);\n",
              "        }\n",
              "      </script>\n",
              "    </div>\n",
              "  </div>\n",
              "  "
            ]
          },
          "metadata": {},
          "execution_count": 8
        }
      ],
      "source": [
        "df.describe()"
      ]
    },
    {
      "cell_type": "markdown",
      "metadata": {
        "id": "yLCEYugbfmkr"
      },
      "source": [
        "# Visualization"
      ]
    },
    {
      "cell_type": "markdown",
      "metadata": {
        "id": "tx9ESgFyHbAy"
      },
      "source": [
        "## Forest fire Count"
      ]
    },
    {
      "cell_type": "code",
      "execution_count": null,
      "metadata": {
        "colab": {
          "base_uri": "https://localhost:8080/",
          "height": 350
        },
        "id": "6i7aGP-uSz0f",
        "outputId": "6bc28832-b2aa-4ec5-b47b-b9fcc4e5132e"
      },
      "outputs": [
        {
          "output_type": "display_data",
          "data": {
            "text/plain": [
              "<Figure size 720x360 with 1 Axes>"
            ],
            "image/png": "[encoded data removed]"
          },
          "metadata": {
            "needs_background": "light"
          }
        }
      ],
      "source": [
        "# Area of fire\n",
        "data = {'Areas with no forest fire':dfAll.shape[0]-df.shape[0], 'Areas with forest fires':df.shape[0]}\n",
        "courses = list(data.keys())\n",
        "values = list(data.values())\n",
        "  \n",
        "fig = plt.figure(figsize = (10, 5))\n",
        " \n",
        "# creating the bar plot\n",
        "plt.bar(courses, values, color ='maroon',\n",
        "        width = 0.4)\n",
        " \n",
        "plt.xlabel(\"Area affected\")\n",
        "plt.ylabel(\"Count\")\n",
        "plt.title(\"Forest fire count\")\n",
        "plt.show()"
      ]
    },
    {
      "cell_type": "markdown",
      "metadata": {
        "id": "QnFqX-lkE4yx"
      },
      "source": [
        "## Heat Map"
      ]
    },
    {
      "cell_type": "code",
      "execution_count": null,
      "metadata": {
        "colab": {
          "base_uri": "https://localhost:8080/",
          "height": 269
        },
        "id": "obh_3kNrE4Zp",
        "outputId": "76f3399e-1b25-4b86-e8ad-7f680089e704"
      },
      "outputs": [
        {
          "output_type": "display_data",
          "data": {
            "text/plain": [
              "<Figure size 432x288 with 2 Axes>"
            ],
            "image/png": "[encoded data removed]"
          },
          "metadata": {
            "needs_background": "light"
          }
        }
      ],
      "source": [
        "my_data = np.array(dfAll)\n",
        "\n",
        "Z_dat=my_data[1:517,12]\n",
        "X_dat=my_data[1:517,0]\n",
        "Y_dat=my_data[1:517,1]\n",
        "\n",
        "X, Y, Z, = np.array([]), np.array([]), np.array([])\n",
        "for i in range(len(X_dat)):\n",
        "    X = np.append(X,X_dat[i])\n",
        "    Y = np.append(Y,Y_dat[i])\n",
        "    Z = np.append(Z,Z_dat[i])\n",
        "zmin = 1\n",
        "zmax = 9\n",
        "xi = np.linspace(X.min(),X.max(),1000)\n",
        "yi = np.linspace(Y.min(),Y.max(),1000)\n",
        "zi = griddata((X, Y), Z, (xi[None,:], yi[:,None]), method='cubic')\n",
        "CS = plt.contourf(xi, yi, zi, 15, cmap=plt.cm.gist_heat)\n",
        "plt.colorbar()  \n",
        "plt.show()"
      ]
    },
    {
      "cell_type": "markdown",
      "metadata": {
        "id": "Zvl36jb1G_Mg"
      },
      "source": [
        "## Coordinates of area affected"
      ]
    },
    {
      "cell_type": "code",
      "execution_count": null,
      "metadata": {
        "colab": {
          "base_uri": "https://localhost:8080/",
          "height": 248
        },
        "id": "1medMl-WHCMJ",
        "outputId": "4239b861-2dce-45a2-8683-d79f92aef7dc"
      },
      "outputs": [
        {
          "output_type": "display_data",
          "data": {
            "text/plain": [
              "<Figure size 432x288 with 1 Axes>"
            ],
            "image/png": "[encoded data removed]"
          },
          "metadata": {
            "needs_background": "light"
          }
        }
      ],
      "source": [
        "intensity=dfAll.area\n",
        "X=dfAll.X\n",
        "Y=dfAll.Y\n",
        "fig = plt.figure()\n",
        "ax = fig.add_subplot(111, projection='3d')\n",
        "x=X.iloc[intensity.to_numpy().nonzero()[0]]\n",
        "y=Y.iloc[intensity.to_numpy().nonzero()[0]]\n",
        "#chose fewer bins to make it look less crowded.\n",
        "hist, xedges, yedges = np.histogram2d(x,y,bins=4,range=[[0, 9], [0,9]])\n",
        "xpos, ypos = np.meshgrid(xedges[:-1] + 0.25, yedges[:-1] + 0.25, indexing=\"ij\")\n",
        "xpos = xpos.ravel()\n",
        "ypos = ypos.ravel()\n",
        "zpos = 0\n",
        "\n",
        "dx = dy = 0.5 * np.ones_like(zpos)\n",
        "dz = hist.ravel()\n",
        "#plt.ylim(9,0)\n",
        "plt.xlim(9,0)\n",
        "ax.bar3d(xpos, ypos, zpos, dx, dy, dz, color='b', zsort='average')\n",
        "ax.set_xlabel(\"x\")\n",
        "ax.set_ylabel(\"y\")\n",
        "ax.set_zlabel(\"frequency of fires\")\n",
        "plt.show()"
      ]
    },
    {
      "cell_type": "code",
      "execution_count": null,
      "metadata": {
        "colab": {
          "base_uri": "https://localhost:8080/"
        },
        "id": "W3dunbiAYZ6x",
        "outputId": "5fddacc2-a158-40cb-e9e0-d922f4f231a6"
      },
      "outputs": [
        {
          "output_type": "stream",
          "name": "stdout",
          "text": [
            "<class 'pandas.core.frame.DataFrame'>\n",
            "RangeIndex: 517 entries, 0 to 516\n",
            "Data columns (total 12 columns):\n",
            " #   Column  Non-Null Count  Dtype  \n",
            "---  ------  --------------  -----  \n",
            " 0   X       517 non-null    int64  \n",
            " 1   Y       517 non-null    int64  \n",
            " 2   month   517 non-null    Int8   \n",
            " 3   day     517 non-null    Int8   \n",
            " 4   FFMC    517 non-null    float64\n",
            " 5   DMC     517 non-null    float64\n",
            " 6   DC      517 non-null    float64\n",
            " 7   ISI     517 non-null    float64\n",
            " 8   temp    517 non-null    float64\n",
            " 9   RH      517 non-null    int64  \n",
            " 10  wind    517 non-null    float64\n",
            " 11  rain    517 non-null    float64\n",
            "dtypes: Int8(2), float64(7), int64(3)\n",
            "memory usage: 42.5 KB\n"
          ]
        }
      ],
      "source": [
        "label=dfAll['area']\n",
        "dfAll.drop(['area'],inplace=True,axis=1)\n",
        "dfAll.info()"
      ]
    },
    {
      "cell_type": "code",
      "execution_count": null,
      "metadata": {
        "id": "wnOObDFHXBMW"
      },
      "outputs": [],
      "source": [
        "features_bin = np.where(label > 0.0,1,0) #1=area >0\n",
        "\n",
        "X=np.array(dfAll)\n",
        "Y=np.array(features_bin)\n",
        "\n",
        "X_train, X_test, Y_train, Y_test = train_test_split(X,Y, random_state=142) #75% and 25%\n",
        "features =list(dfAll)"
      ]
    },
    {
      "cell_type": "code",
      "execution_count": null,
      "metadata": {
        "colab": {
          "base_uri": "https://localhost:8080/"
        },
        "id": "qTVL_n31Zp2s",
        "outputId": "3ae11d1d-a915-4cb6-f536-924d980c06f8"
      },
      "outputs": [
        {
          "output_type": "stream",
          "name": "stdout",
          "text": [
            "('X', 0.09414696151460648)\n",
            "('Y', 0.06290151979913455)\n",
            "('month', 0.03663828483321526)\n",
            "('day', 0.047987185581501224)\n",
            "('FFMC', 0.09109988324943417)\n",
            "('DMC', 0.10807595978810701)\n",
            "('DC', 0.1068877872360178)\n",
            "('ISI', 0.08500398946423714)\n",
            "('temp', 0.1429093137544976)\n",
            "('RH', 0.12543653374944755)\n",
            "('wind', 0.09423108873415159)\n",
            "('rain', 0.004681492295649522)\n"
          ]
        }
      ],
      "source": [
        "clf = RandomForestClassifier(n_estimators=100, random_state=1, n_jobs=-1)\n",
        "clf.fit(X, Y)\n",
        "for feature in zip(features, clf.feature_importances_):\n",
        "    print(feature)"
      ]
    },
    {
      "cell_type": "markdown",
      "metadata": {
        "id": "k9MLO7Aid3O6"
      },
      "source": [
        "Here we can see that, out of all the features, Temperature contributes the most to a large forest fire and rain contributes the least. Hence, we can remove rain from our list of features."
      ]
    },
    {
      "cell_type": "code",
      "execution_count": null,
      "metadata": {
        "colab": {
          "base_uri": "https://localhost:8080/"
        },
        "id": "727uBc9gmMT2",
        "outputId": "719b82bd-a7a0-439f-ad1f-0222a598816b"
      },
      "outputs": [
        {
          "output_type": "stream",
          "name": "stdout",
          "text": [
            "<class 'pandas.core.frame.DataFrame'>\n",
            "RangeIndex: 517 entries, 0 to 516\n",
            "Data columns (total 11 columns):\n",
            " #   Column  Non-Null Count  Dtype  \n",
            "---  ------  --------------  -----  \n",
            " 0   X       517 non-null    int64  \n",
            " 1   Y       517 non-null    int64  \n",
            " 2   month   517 non-null    Int8   \n",
            " 3   day     517 non-null    Int8   \n",
            " 4   FFMC    517 non-null    float64\n",
            " 5   DMC     517 non-null    float64\n",
            " 6   DC      517 non-null    float64\n",
            " 7   ISI     517 non-null    float64\n",
            " 8   temp    517 non-null    float64\n",
            " 9   RH      517 non-null    int64  \n",
            " 10  wind    517 non-null    float64\n",
            "dtypes: Int8(2), float64(6), int64(3)\n",
            "memory usage: 38.5 KB\n"
          ]
        }
      ],
      "source": [
        "dfAll.drop(['rain'],inplace=True,axis=1)\n",
        "dfAll.info()"
      ]
    },
    {
      "cell_type": "code",
      "execution_count": null,
      "metadata": {
        "colab": {
          "base_uri": "https://localhost:8080/",
          "height": 1000
        },
        "id": "m0SBSg8qsjRF",
        "outputId": "7fedb0c7-16ae-48e2-f4e6-df5391ba7264"
      },
      "outputs": [
        {
          "output_type": "display_data",
          "data": {
            "text/plain": [
              "<Figure size 432x288 with 1 Axes>"
            ],
            "image/png": "[encoded data removed]"
          },
          "metadata": {
            "needs_background": "light"
          }
        },
        {
          "output_type": "display_data",
          "data": {
            "text/plain": [
              "<Figure size 432x288 with 1 Axes>"
            ],
            "image/png": "[encoded data removed]"
          },
          "metadata": {
            "needs_background": "light"
          }
        },
        {
          "output_type": "display_data",
          "data": {
            "text/plain": [
              "<Figure size 432x288 with 1 Axes>"
            ],
            "image/png": "[encoded data removed]"
          },
          "metadata": {
            "needs_background": "light"
          }
        },
        {
          "output_type": "display_data",
          "data": {
            "text/plain": [
              "<Figure size 432x288 with 1 Axes>"
            ],
            "image/png": "[encoded data removed]"
          },
          "metadata": {
            "needs_background": "light"
          }
        },
        {
          "output_type": "display_data",
          "data": {
            "text/plain": [
              "<Figure size 432x288 with 1 Axes>"
            ],
            "image/png": "[encoded data removed]"
          },
          "metadata": {
            "needs_background": "light"
          }
        },
        {
          "output_type": "display_data",
          "data": {
            "text/plain": [
              "<Figure size 432x288 with 1 Axes>"
            ],
            "image/png": "[encoded data removed]"
          },
          "metadata": {
            "needs_background": "light"
          }
        },
        {
          "output_type": "display_data",
          "data": {
            "text/plain": [
              "<Figure size 432x288 with 1 Axes>"
            ],
            "image/png": "[encoded data removed]"
          },
          "metadata": {
            "needs_background": "light"
          }
        },
        {
          "output_type": "display_data",
          "data": {
            "text/plain": [
              "<Figure size 432x288 with 1 Axes>"
            ],
            "image/png": "[encoded data removed]"
          },
          "metadata": {
            "needs_background": "light"
          }
        },
        {
          "output_type": "display_data",
          "data": {
            "text/plain": [
              "<Figure size 432x288 with 1 Axes>"
            ],
            "image/png": "[encoded data removed]"
          },
          "metadata": {
            "needs_background": "light"
          }
        },
        {
          "output_type": "display_data",
          "data": {
            "text/plain": [
              "<Figure size 432x288 with 1 Axes>"
            ],
            "image/png": "[encoded data removed]"
          },
          "metadata": {
            "needs_background": "light"
          }
        },
        {
          "output_type": "display_data",
          "data": {
            "text/plain": [
              "<Figure size 432x288 with 1 Axes>"
            ],
            "image/png": "[encoded data removed]"
          },
          "metadata": {
            "needs_background": "light"
          }
        },
        {
          "output_type": "error",
          "ename": "IndexError",
          "evalue": "ignored",
          "traceback": [
            "\u001b[0;31m---------------------------------------------------------------------------\u001b[0m",
            "\u001b[0;31mIndexError\u001b[0m                                Traceback (most recent call last)",
            "\u001b[0;32m<ipython-input-13-54b2fca3ff42>\u001b[0m in \u001b[0;36m<module>\u001b[0;34m()\u001b[0m\n\u001b[1;32m      1\u001b[0m \u001b[0munits\u001b[0m \u001b[0;34m=\u001b[0m\u001b[0;34m[\u001b[0m\u001b[0;34m'co-ordinate'\u001b[0m\u001b[0;34m,\u001b[0m\u001b[0;34m'co-ordinate'\u001b[0m\u001b[0;34m,\u001b[0m\u001b[0;34m'none'\u001b[0m\u001b[0;34m,\u001b[0m\u001b[0;34m'none'\u001b[0m\u001b[0;34m,\u001b[0m\u001b[0;34m'ffmc'\u001b[0m\u001b[0;34m,\u001b[0m\u001b[0;34m'dmc'\u001b[0m\u001b[0;34m,\u001b[0m\u001b[0;34m'dc'\u001b[0m\u001b[0;34m,\u001b[0m\u001b[0;34m'si'\u001b[0m\u001b[0;34m,\u001b[0m\u001b[0;34m'Celsius'\u001b[0m\u001b[0;34m,\u001b[0m\u001b[0;34m'%'\u001b[0m\u001b[0;34m,\u001b[0m\u001b[0;34m'km/hr'\u001b[0m\u001b[0;34m,\u001b[0m\u001b[0;34m'mm/m2'\u001b[0m\u001b[0;34m,\u001b[0m\u001b[0;34m''\u001b[0m\u001b[0;34m]\u001b[0m\u001b[0;34m\u001b[0m\u001b[0;34m\u001b[0m\u001b[0m\n\u001b[1;32m      2\u001b[0m \u001b[0;32mfor\u001b[0m \u001b[0mi\u001b[0m \u001b[0;32min\u001b[0m \u001b[0mrange\u001b[0m\u001b[0;34m(\u001b[0m\u001b[0;36m12\u001b[0m\u001b[0;34m)\u001b[0m\u001b[0;34m:\u001b[0m\u001b[0;34m\u001b[0m\u001b[0;34m\u001b[0m\u001b[0m\n\u001b[0;32m----> 3\u001b[0;31m     \u001b[0mfeature_name\u001b[0m \u001b[0;34m=\u001b[0m \u001b[0mdfAll\u001b[0m\u001b[0;34m.\u001b[0m\u001b[0mcolumns\u001b[0m\u001b[0;34m[\u001b[0m\u001b[0mi\u001b[0m\u001b[0;34m]\u001b[0m\u001b[0;34m\u001b[0m\u001b[0;34m\u001b[0m\u001b[0m\n\u001b[0m\u001b[1;32m      4\u001b[0m \u001b[0;34m\u001b[0m\u001b[0m\n\u001b[1;32m      5\u001b[0m     \u001b[0;31m# Plotting Histogram of feature feature_name for part b\u001b[0m\u001b[0;34m\u001b[0m\u001b[0;34m\u001b[0m\u001b[0;34m\u001b[0m\u001b[0m\n",
            "\u001b[0;32m/usr/local/lib/python3.7/dist-packages/pandas/core/indexes/base.py\u001b[0m in \u001b[0;36m__getitem__\u001b[0;34m(self, key)\u001b[0m\n\u001b[1;32m   4602\u001b[0m         \u001b[0;32mif\u001b[0m \u001b[0mis_scalar\u001b[0m\u001b[0;34m(\u001b[0m\u001b[0mkey\u001b[0m\u001b[0;34m)\u001b[0m\u001b[0;34m:\u001b[0m\u001b[0;34m\u001b[0m\u001b[0;34m\u001b[0m\u001b[0m\n\u001b[1;32m   4603\u001b[0m             \u001b[0mkey\u001b[0m \u001b[0;34m=\u001b[0m \u001b[0mcom\u001b[0m\u001b[0;34m.\u001b[0m\u001b[0mcast_scalar_indexer\u001b[0m\u001b[0;34m(\u001b[0m\u001b[0mkey\u001b[0m\u001b[0;34m,\u001b[0m \u001b[0mwarn_float\u001b[0m\u001b[0;34m=\u001b[0m\u001b[0;32mTrue\u001b[0m\u001b[0;34m)\u001b[0m\u001b[0;34m\u001b[0m\u001b[0;34m\u001b[0m\u001b[0m\n\u001b[0;32m-> 4604\u001b[0;31m             \u001b[0;32mreturn\u001b[0m \u001b[0mgetitem\u001b[0m\u001b[0;34m(\u001b[0m\u001b[0mkey\u001b[0m\u001b[0;34m)\u001b[0m\u001b[0;34m\u001b[0m\u001b[0;34m\u001b[0m\u001b[0m\n\u001b[0m\u001b[1;32m   4605\u001b[0m \u001b[0;34m\u001b[0m\u001b[0m\n\u001b[1;32m   4606\u001b[0m         \u001b[0;32mif\u001b[0m \u001b[0misinstance\u001b[0m\u001b[0;34m(\u001b[0m\u001b[0mkey\u001b[0m\u001b[0;34m,\u001b[0m \u001b[0mslice\u001b[0m\u001b[0;34m)\u001b[0m\u001b[0;34m:\u001b[0m\u001b[0;34m\u001b[0m\u001b[0;34m\u001b[0m\u001b[0m\n",
            "\u001b[0;31mIndexError\u001b[0m: index 11 is out of bounds for axis 0 with size 11"
          ]
        }
      ],
      "source": [
        "units =['co-ordinate','co-ordinate','none','none','ffmc','dmc','dc','si','Celsius','%','km/hr','mm/m2','']\n",
        "for i in range(12):\n",
        "    feature_name = dfAll.columns[i] \n",
        "\n",
        "    # Plotting Histogram of feature feature_name for part b\n",
        "    plt.hist(dfAll.iloc[:, i])\n",
        "    plt.ylabel('Frequency')\n",
        "    plt.xlabel(feature_name+ (' (' + units[i]+')' if i>7 else ''))\n",
        "    plt.title('Histogram of feature ' + feature_name)\n",
        "    plt.show()\n",
        "\n",
        "    # Plotting Scatter plot of feature feature_name and log(burned area + 1)\n",
        "    # plt.scatter(dfAll.iloc[:, i], np.log(dfAll.iloc[:, 12] + 1))\n",
        "    # plt.ylabel('log(burned area + 1)')\n",
        "    # plt.xlabel(feature_name)\n",
        "    # plt.title('Scatter plot of log(burned area +1) vs ' + feature_name)\n",
        "    # plt.show()\n",
        "\n",
        "\n",
        "# Plotting histogram of output variable for part c\n",
        "plt.hist(dfAll.iloc[:, 12])\n",
        "plt.ylabel('Frequency')\n",
        "plt.xlabel('area (hectares)')\n",
        "plt.title('Histogram of output variable area')\n",
        "plt.show()\n",
        "\n",
        "plt.hist(np.log(dfAll.iloc[:, 12] + 1))\n",
        "plt.ylabel('Frequency')\n",
        "plt.xlabel('log(area) + 1')\n",
        "plt.title('Histogram of logarithm of output variable area + 1')\n",
        "plt.show()"
      ]
    },
    {
      "cell_type": "markdown",
      "metadata": {
        "id": "fUyQrC7stgMn"
      },
      "source": [
        "# Classification"
      ]
    },
    {
      "cell_type": "markdown",
      "source": [
        "## SVM"
      ],
      "metadata": {
        "id": "8S0uhywz3hJa"
      }
    },
    {
      "cell_type": "code",
      "execution_count": null,
      "metadata": {
        "id": "OZk5O9BJnBYL"
      },
      "outputs": [],
      "source": [
        "X=np.array(dfAll)\n",
        "Y=np.array(features_bin)\n",
        "X=X[:,[8,9]]\n",
        "X_train, X_test, Y_train, Y_test = train_test_split(X,Y,test_size=0.25) #75% and 25%"
      ]
    },
    {
      "cell_type": "code",
      "source": [
        "clf = svm.SVC(kernel='rbf',gamma=0.7) \n",
        "\n",
        "#Train the model using the training sets\n",
        "clf.fit(X_train, Y_train)\n",
        "\n",
        "#Predict the response for test dataset\n",
        "y_pred = clf.predict(X_test)\n",
        "\n",
        "print(\"Accuracy of SVM model--> {:.2f}\".format(accuracy_score(Y_test, y_pred)))"
      ],
      "metadata": {
        "id": "bA1DEnJ9nc5h",
        "colab": {
          "base_uri": "https://localhost:8080/"
        },
        "outputId": "ab76a15f-8c8f-476b-94d0-8d8264a5c1de"
      },
      "execution_count": null,
      "outputs": [
        {
          "output_type": "stream",
          "name": "stdout",
          "text": [
            "Accuracy of SVM model--> 0.50\n"
          ]
        }
      ]
    },
    {
      "cell_type": "code",
      "source": [
        "\n",
        "x_min, x_max = X[:, 0].min() - 1, X[:, 0].max() + 1\n",
        "y_min, y_max = X[:, 1].min() - 1, X[:, 1].max() + 1\n",
        "h = (x_max /( x_min+1))/100\n",
        "xx, yy = np.meshgrid(np.arange(x_min, x_max, h),\n",
        "np.arange(y_min, y_max, h))\n",
        "plt.subplot(1, 1, 1)\n",
        "Z = clf.predict(np.c_[xx.ravel(), yy.ravel()])\n",
        "Z = Z.reshape(xx.shape)\n",
        "plt.contourf(xx, yy, Z, cmap=plt.cm.Paired, alpha=0.8)\n",
        "plt.scatter(X[:, 0], X[:, 1], c=Y, cmap=plt.cm.Paired)\n",
        "plt.xlabel('Sepal length')\n",
        "plt.ylabel('Sepal width')\n",
        "plt.xlim(xx.min(), xx.max())\n",
        "plt.title('SVC with linear kernel')\n",
        "plt.show()"
      ],
      "metadata": {
        "id": "8uJ14Np8rTj9"
      },
      "execution_count": null,
      "outputs": []
    },
    {
      "cell_type": "code",
      "source": [
        "clf = svm.SVC(kernel='linear') \n",
        "\n",
        "#Train the model using the training sets\n",
        "clf.fit(X_train, Y_train)\n",
        "\n",
        "#Predict the response for test dataset\n",
        "y_pred = clf.predict(X_test)\n",
        "\n",
        "print(\"Accuracy of SVM model--> {:.2f}\".format(accuracy_score(Y_test, y_pred)))"
      ],
      "metadata": {
        "colab": {
          "base_uri": "https://localhost:8080/"
        },
        "id": "-fYFGkYnppQc",
        "outputId": "25dfb735-7c82-493d-8b82-d6d266015e4b"
      },
      "execution_count": null,
      "outputs": [
        {
          "output_type": "stream",
          "name": "stdout",
          "text": [
            "Accuracy of SVM model--> 0.53\n"
          ]
        }
      ]
    },
    {
      "cell_type": "markdown",
      "metadata": {
        "id": "kvFwykIeJs8W"
      },
      "source": [
        "## KNN"
      ]
    },
    {
      "cell_type": "code",
      "execution_count": null,
      "metadata": {
        "id": "kVP3puruKKtx"
      },
      "outputs": [],
      "source": [
        "features_bin = np.where(label > 0.0,1,0) #1=area >0\n",
        "\n",
        "X=np.array(dfAll)\n",
        "Y=np.array(features_bin)\n",
        "\n",
        "X_train, X_test, Y_train, Y_test = train_test_split(X,Y, random_state=142) #75% and 25%\n",
        "features =list(dfAll)"
      ]
    },
    {
      "cell_type": "code",
      "execution_count": null,
      "metadata": {
        "colab": {
          "base_uri": "https://localhost:8080/",
          "height": 295
        },
        "id": "jOortNFQL74k",
        "outputId": "c5704c62-7ef3-4206-c03d-57980d4c3bc3"
      },
      "outputs": [
        {
          "data": {
            "image/png": "[encoded data removed]",
            "text/plain": [
              "<Figure size 432x288 with 1 Axes>"
            ]
          },
          "metadata": {},
          "output_type": "display_data"
        }
      ],
      "source": [
        "K = []\n",
        "roc = []\n",
        "\n",
        "\n",
        "for k in range(1, 10):\n",
        "    knn = KNeighborsClassifier(n_neighbors=k)\n",
        "    knn.fit(X_train, Y_train)\n",
        "    Y_pred = knn.predict(X_test)\n",
        "    K.append(k)\n",
        "    roc.append(roc_auc_score(Y_test, Y_pred))\n",
        "\n",
        "plt.plot(K,roc)\n",
        "plt.title('Classification using a KNearestNeighbour Model')\n",
        "plt.xlabel('Number of Neighbours')\n",
        "plt.ylabel('ROC_AUC score')\n",
        "plt.show()"
      ]
    },
    {
      "cell_type": "code",
      "execution_count": null,
      "metadata": {
        "colab": {
          "base_uri": "https://localhost:8080/"
        },
        "id": "-xloRFyfM18s",
        "outputId": "b0e77dcf-e20f-453f-b482-42cb3aa0ebf7"
      },
      "outputs": [
        {
          "name": "stdout",
          "output_type": "stream",
          "text": [
            "Maximum ROC of KNN is for k = 7\n"
          ]
        }
      ],
      "source": [
        "ind = roc.index(max(roc)) \n",
        "print(\"Maximum ROC of KNN is for k = {}\".format(K[ind]))"
      ]
    },
    {
      "cell_type": "code",
      "execution_count": null,
      "metadata": {
        "colab": {
          "base_uri": "https://localhost:8080/",
          "height": 279
        },
        "id": "cVA5Tedci9fc",
        "outputId": "e9e022c2-879f-4773-b8f8-78d3e4866947"
      },
      "outputs": [
        {
          "data": {
            "image/png": "[encoded data removed]",
            "text/plain": [
              "<Figure size 432x288 with 1 Axes>"
            ]
          },
          "metadata": {},
          "output_type": "display_data"
        }
      ],
      "source": [
        "auc_roc=[]\n",
        "fp=[]\n",
        "tp=[]\n",
        "k=7\n",
        "\n",
        "\n",
        "  \n",
        "knn = KNeighborsClassifier(n_neighbors=k)\n",
        "knn.fit(X_train, Y_train)\n",
        "y_pred = knn.predict(X_test)\n",
        "fpr, tpr, _ = roc_curve(Y_test, y_pred)\n",
        "fp.append(fpr)\n",
        "tp.append(tpr)\n",
        "roc_auc = auc(fpr, tpr)\n",
        "auc_roc.append(roc_auc)\n",
        "\n",
        "plt.figure()\n",
        "\n",
        "#for i in range(len(auc_roc)):\n",
        "plt.plot(fp[i], tp[i], label = 'k={} ,AUC  = {:.2f}'.format(k,auc_roc[i]))\n",
        "    \n",
        "plt.plot([0, 1], [0, 1], 'r--')\n",
        "plt.xlim([0.0, 1.0])\n",
        "plt.ylim([0.0, 1.05])\n",
        "plt.xlabel('False Positive Rate')\n",
        "plt.ylabel('True Positive Rate')\n",
        "plt.legend(bbox_to_anchor =(1.5,0.8), ncol = 3)\n",
        "plt.show()"
      ]
    },
    {
      "cell_type": "markdown",
      "metadata": {
        "id": "3yelA-fwNEs_"
      },
      "source": [
        "### for k = 7 "
      ]
    },
    {
      "cell_type": "code",
      "execution_count": null,
      "metadata": {
        "colab": {
          "base_uri": "https://localhost:8080/"
        },
        "id": "q3AW5hrsNIVF",
        "outputId": "e38455fe-f1f9-462d-d39d-3bd235c3859d"
      },
      "outputs": [
        {
          "output_type": "stream",
          "name": "stdout",
          "text": [
            "Accuracy of KNN model--> 0.65\n"
          ]
        }
      ],
      "source": [
        "knn = KNeighborsClassifier(n_neighbors=7)\n",
        "knn.fit(X_train, Y_train)\n",
        "Y_predicted = knn.predict(X_test)\n",
        "\n",
        "print(\"Accuracy of KNN model--> {:.2f}\".format(accuracy_score(Y_test, Y_predicted)))"
      ]
    },
    {
      "cell_type": "markdown",
      "metadata": {
        "id": "JHovyQ2oOC2b"
      },
      "source": [
        "## Decision Tree "
      ]
    },
    {
      "cell_type": "code",
      "execution_count": null,
      "metadata": {
        "colab": {
          "base_uri": "https://localhost:8080/",
          "height": 295
        },
        "id": "WlCvPo61OUg1",
        "outputId": "85a30274-3849-4e04-c67e-409123c374e2"
      },
      "outputs": [
        {
          "data": {
            "image/png": "[encoded data removed]",
            "text/plain": [
              "<Figure size 432x288 with 1 Axes>"
            ]
          },
          "metadata": {},
          "output_type": "display_data"
        }
      ],
      "source": [
        "nodes = []\n",
        "roc_dt = []\n",
        "\n",
        "for node in range(2, 15):\n",
        "    dt = DecisionTreeClassifier(max_depth=node, random_state=1)\n",
        "    dt.fit(X_train, Y_train)\n",
        "    Y_pred = dt.predict(X_test)\n",
        "    nodes.append(node)\n",
        "    roc_dt.append(roc_auc_score(Y_test, Y_pred))\n",
        "\n",
        "plt.plot(nodes,roc_dt)\n",
        "plt.title('Classification using a DecisionTree Model')\n",
        "plt.xlabel('Depth of Decision Tree')\n",
        "plt.ylabel('ROC_AUC score')\n",
        "plt.show()"
      ]
    },
    {
      "cell_type": "code",
      "execution_count": null,
      "metadata": {
        "colab": {
          "base_uri": "https://localhost:8080/"
        },
        "id": "OnG0RG5DQfY8",
        "outputId": "a7b3a607-d630-48b8-f382-cd782611aa77"
      },
      "outputs": [
        {
          "name": "stdout",
          "output_type": "stream",
          "text": [
            "Maximum ROC of Descision Tree is for Depth = 9\n"
          ]
        }
      ],
      "source": [
        "ind = roc_dt.index(max(roc_dt)) \n",
        "print(\"Maximum ROC of Descision Tree is for Depth = {}\".format(nodes[ind]))"
      ]
    },
    {
      "cell_type": "code",
      "execution_count": null,
      "metadata": {
        "colab": {
          "base_uri": "https://localhost:8080/",
          "height": 279
        },
        "id": "8L3V_IJGllEy",
        "outputId": "fb4b969d-dc3c-4696-9ced-e2570b96c1dc"
      },
      "outputs": [
        {
          "data": {
            "image/png": "[encoded data removed]",
            "text/plain": [
              "<Figure size 432x288 with 1 Axes>"
            ]
          },
          "metadata": {},
          "output_type": "display_data"
        }
      ],
      "source": [
        "auc_roc1=[]\n",
        "fp1=[]\n",
        "tp1=[]\n",
        "depth=9\n",
        "\n",
        "\n",
        "dt = DecisionTreeClassifier(max_depth=depth, random_state=1)\n",
        "dt.fit(X_train, Y_train)\n",
        "y_pred = dt.predict(X_test)\n",
        "fpr, tpr, _ = roc_curve(Y_test, y_pred)\n",
        "fp1.append(fpr)\n",
        "tp1.append(tpr)\n",
        "roc_auc = auc(fpr, tpr)\n",
        "auc_roc1.append(roc_auc)\n",
        "\n",
        "plt.figure()\n",
        "\n",
        "for i in range(len(auc_roc1)):\n",
        "    plt.plot(fp1[i], tp1[i], label = 'pre prune depth={} ,AUC  = {:.2f}'.format(depth,auc_roc1[i]))\n",
        "    \n",
        "plt.plot([0, 1], [0, 1], 'r--')\n",
        "plt.xlim([0.0, 1.0])\n",
        "plt.ylim([0.0, 1.05])\n",
        "plt.xlabel('False Positive Rate')\n",
        "plt.ylabel('True Positive Rate')\n",
        "plt.legend(bbox_to_anchor =(1.5,0.8), ncol = 3)\n",
        "plt.show()\n"
      ]
    },
    {
      "cell_type": "markdown",
      "metadata": {
        "id": "iW62tWhZQmTA"
      },
      "source": [
        "### for depth = 9"
      ]
    },
    {
      "cell_type": "code",
      "execution_count": null,
      "metadata": {
        "colab": {
          "base_uri": "https://localhost:8080/"
        },
        "id": "1dDG4lGAQpwK",
        "outputId": "f72e13e4-6a17-4415-c375-57f5a31794a4"
      },
      "outputs": [
        {
          "output_type": "stream",
          "name": "stdout",
          "text": [
            "Accuracy of Decision Tree model--> 0.62\n"
          ]
        }
      ],
      "source": [
        "\n",
        "dt = DecisionTreeClassifier(max_depth=9, random_state=1)\n",
        "dt.fit(X_train, Y_train)\n",
        "Y_pred_dt = dt.predict(X_test)\n",
        "\n",
        "\n",
        "print(\"Accuracy of Decision Tree model--> {:.2f}\".format(accuracy_score(Y_test, Y_pred_dt)))"
      ]
    },
    {
      "cell_type": "markdown",
      "metadata": {
        "id": "FZR6SBAlRSEg"
      },
      "source": [
        "## Random Forest (Ensemble Learning)"
      ]
    },
    {
      "cell_type": "code",
      "execution_count": null,
      "metadata": {
        "colab": {
          "base_uri": "https://localhost:8080/",
          "height": 295
        },
        "id": "O8qwEk-jRVc7",
        "outputId": "5bf39995-b093-444f-c5ee-777732801522"
      },
      "outputs": [
        {
          "data": {
            "image/png": "[encoded data removed]",
            "text/plain": [
              "<Figure size 432x288 with 1 Axes>"
            ]
          },
          "metadata": {},
          "output_type": "display_data"
        }
      ],
      "source": [
        "estimators = []\n",
        "roc_rf = []\n",
        "\n",
        "\n",
        "for estimator in range(10, 101,10):\n",
        "    model = RandomForestClassifier(n_estimators = estimator, random_state = 1)\n",
        "    model.fit(X_train, Y_train)\n",
        "    Y_pred = model.predict(X_test)\n",
        "    estimators.append(estimator)\n",
        "    roc_rf.append(roc_auc_score(Y_test, Y_pred))\n",
        "\n",
        "\n",
        "plt.plot(estimators,roc_rf)\n",
        "plt.title('Classification using a RandomForest(Ensemble Learning)')\n",
        "plt.xlabel('Number Of Estimators')\n",
        "plt.ylabel('ROC_AUC score')\n",
        "plt.show()"
      ]
    },
    {
      "cell_type": "code",
      "execution_count": null,
      "metadata": {
        "colab": {
          "base_uri": "https://localhost:8080/"
        },
        "id": "aBXBqhzPS2z_",
        "outputId": "b01de0d7-14f3-4a4f-f452-4401baabb041"
      },
      "outputs": [
        {
          "name": "stdout",
          "output_type": "stream",
          "text": [
            "Maximum ROC of Random Forest is for number of estimators = 100\n"
          ]
        }
      ],
      "source": [
        "ind = roc_rf.index(max(roc_rf)) \n",
        "print(\"Maximum ROC of Random Forest is for number of estimators = {}\".format(estimators[ind]))"
      ]
    },
    {
      "cell_type": "code",
      "execution_count": null,
      "metadata": {
        "colab": {
          "base_uri": "https://localhost:8080/",
          "height": 279
        },
        "id": "hnccGQmmmgPx",
        "outputId": "f3e3c7be-0d5f-473a-e550-afcdd1230d1f"
      },
      "outputs": [
        {
          "data": {
            "image/png": "[encoded data removed]",
            "text/plain": [
              "<Figure size 432x288 with 1 Axes>"
            ]
          },
          "metadata": {},
          "output_type": "display_data"
        }
      ],
      "source": [
        "auc_roc2=[]\n",
        "fp2=[]\n",
        "tp2=[]\n",
        "estimator=100\n",
        "\n",
        "\n",
        "model = RandomForestClassifier(n_estimators = estimator, random_state = 1)\n",
        "model.fit(X_train, Y_train)\n",
        "y_pred = model.predict(X_test)\n",
        "fpr, tpr, _ = roc_curve(Y_test, y_pred)\n",
        "fp2.append(fpr)\n",
        "tp2.append(tpr)\n",
        "roc_auc = auc(fpr, tpr)\n",
        "auc_roc2.append(roc_auc)\n",
        "\n",
        "plt.figure()\n",
        "\n",
        "for i in range(len(auc_roc2)):\n",
        "    plt.plot(fp2[i], tp2[i], label = 'no.of estimator={} ,AUC  = {:.2f}'.format(estimator,auc_roc2[i]))\n",
        "    \n",
        "plt.plot([0, 1], [0, 1], 'r--')\n",
        "plt.xlim([0.0, 1.0])\n",
        "plt.ylim([0.0, 1.05])\n",
        "plt.xlabel('False Positive Rate')\n",
        "plt.ylabel('True Positive Rate')\n",
        "plt.legend(bbox_to_anchor =(1.5,0.8), ncol = 3)\n",
        "plt.show()"
      ]
    },
    {
      "cell_type": "markdown",
      "metadata": {
        "id": "MAN6UyRVS9H9"
      },
      "source": [
        "###  for number of estimators = 100"
      ]
    },
    {
      "cell_type": "code",
      "execution_count": null,
      "metadata": {
        "colab": {
          "base_uri": "https://localhost:8080/"
        },
        "id": "LDTE4TjNS7z4",
        "outputId": "4574db72-a4be-47a1-f2ac-8b426192271a"
      },
      "outputs": [
        {
          "name": "stdout",
          "output_type": "stream",
          "text": [
            "Accuracy of RandomForest model--> 0.69\n"
          ]
        }
      ],
      "source": [
        "model = RandomForestClassifier(n_estimators = 100, random_state = 1)\n",
        "model.fit(X_train, Y_train)\n",
        "Y_pred_rf = model.predict(X_test)\n",
        "\n",
        "print(\"Accuracy of RandomForest model--> {:.2f}\".format(accuracy_score(Y_test, Y_pred_rf)))"
      ]
    },
    {
      "cell_type": "markdown",
      "metadata": {
        "id": "0msHdnnEnf8L"
      },
      "source": [
        "# NN Classification"
      ]
    },
    {
      "cell_type": "code",
      "execution_count": null,
      "metadata": {
        "colab": {
          "base_uri": "https://localhost:8080/"
        },
        "id": "RZFAwnjZt6QB",
        "outputId": "f3577132-6901-43a8-b2e9-f84474c600ef"
      },
      "outputs": [
        {
          "name": "stdout",
          "output_type": "stream",
          "text": [
            "Model: \"sequential_9\"\n",
            "_________________________________________________________________\n",
            " Layer (type)                Output Shape              Param #   \n",
            "=================================================================\n",
            " dense_35 (Dense)            (None, 100)               1200      \n",
            "                                                                 \n",
            " activation_24 (Activation)  (None, 100)               0         \n",
            "                                                                 \n",
            " dropout_16 (Dropout)        (None, 100)               0         \n",
            "                                                                 \n",
            " dense_36 (Dense)            (None, 100)               10100     \n",
            "                                                                 \n",
            " dropout_17 (Dropout)        (None, 100)               0         \n",
            "                                                                 \n",
            " activation_25 (Activation)  (None, 100)               0         \n",
            "                                                                 \n",
            " dense_37 (Dense)            (None, 50)                5050      \n",
            "                                                                 \n",
            " activation_26 (Activation)  (None, 50)                0         \n",
            "                                                                 \n",
            " dense_38 (Dense)            (None, 1)                 51        \n",
            "                                                                 \n",
            "=================================================================\n",
            "Total params: 16,401\n",
            "Trainable params: 16,401\n",
            "Non-trainable params: 0\n",
            "_________________________________________________________________\n"
          ]
        }
      ],
      "source": [
        "from keras.models import Sequential\n",
        "import keras.optimizers as opti\n",
        "from keras.layers import Dense, Activation,Dropout\n",
        "\n",
        "\n",
        "model = Sequential()\n",
        "model.add(Dense(100, input_dim=11))\n",
        "model.add(Activation('relu'))\n",
        "model.add(Dropout(0.3))\n",
        "model.add(Dense(100))\n",
        "model.add(Dropout(0.3))\n",
        "model.add(Activation('relu'))\n",
        "model.add(Dense(50))\n",
        "model.add(Activation('sigmoid'))\n",
        "model.add(Dense(1))\n",
        "model.summary()"
      ]
    },
    {
      "cell_type": "code",
      "execution_count": null,
      "metadata": {
        "colab": {
          "base_uri": "https://localhost:8080/"
        },
        "id": "S5rcUQTUxYOr",
        "outputId": "18f05024-8562-4b8a-95c1-7a4e447c348c"
      },
      "outputs": [
        {
          "name": "stdout",
          "output_type": "stream",
          "text": [
            "Epoch 1/10\n",
            "78/78 [==============================] - 1s 5ms/step - loss: 1.4624 - accuracy: 0.5405 - val_loss: 5.4176 - val_accuracy: 0.4487\n",
            "Epoch 2/10\n",
            "78/78 [==============================] - 0s 3ms/step - loss: 0.9916 - accuracy: 0.5534 - val_loss: 0.7421 - val_accuracy: 0.4744\n",
            "Epoch 3/10\n",
            "78/78 [==============================] - 0s 3ms/step - loss: 1.1160 - accuracy: 0.5113 - val_loss: 0.6969 - val_accuracy: 0.5897\n",
            "Epoch 4/10\n",
            "78/78 [==============================] - 0s 3ms/step - loss: 0.8992 - accuracy: 0.4693 - val_loss: 0.7701 - val_accuracy: 0.4744\n",
            "Epoch 5/10\n",
            "78/78 [==============================] - 0s 3ms/step - loss: 1.3809 - accuracy: 0.5081 - val_loss: 0.8284 - val_accuracy: 0.4615\n",
            "Epoch 6/10\n",
            "78/78 [==============================] - 0s 3ms/step - loss: 0.9270 - accuracy: 0.5016 - val_loss: 0.7570 - val_accuracy: 0.4615\n",
            "Epoch 7/10\n",
            "78/78 [==============================] - 0s 3ms/step - loss: 0.9779 - accuracy: 0.4919 - val_loss: 0.7454 - val_accuracy: 0.4487\n",
            "Epoch 8/10\n",
            "78/78 [==============================] - 0s 3ms/step - loss: 0.7209 - accuracy: 0.5663 - val_loss: 0.7530 - val_accuracy: 0.4487\n",
            "Epoch 9/10\n",
            "78/78 [==============================] - 0s 3ms/step - loss: 0.7997 - accuracy: 0.5696 - val_loss: 0.7273 - val_accuracy: 0.4487\n",
            "Epoch 10/10\n",
            "78/78 [==============================] - 0s 3ms/step - loss: 0.7033 - accuracy: 0.5728 - val_loss: 0.7237 - val_accuracy: 0.4615\n"
          ]
        },
        {
          "data": {
            "text/plain": [
              "<keras.callbacks.History at 0x7f808ff145d0>"
            ]
          },
          "execution_count": 151,
          "metadata": {},
          "output_type": "execute_result"
        }
      ],
      "source": [
        "X_train=X_train.astype('float64')\n",
        "X_test=X_test.astype('float64')\n",
        "model.compile(loss='binary_crossentropy', optimizer='adam', metrics=['accuracy'])\n",
        "model.fit(X_train, Y_train, epochs=10, batch_size=4, verbose=1, validation_split=0.2)"
      ]
    },
    {
      "cell_type": "code",
      "execution_count": null,
      "metadata": {
        "colab": {
          "base_uri": "https://localhost:8080/"
        },
        "id": "2hrCiWgOzdxA",
        "outputId": "3352a380-8174-414d-fe89-efd048edf9e2"
      },
      "outputs": [
        {
          "name": "stdout",
          "output_type": "stream",
          "text": [
            "5/5 [==============================] - 0s 2ms/step - loss: 0.7092 - accuracy: 0.5385\n",
            "Test dataset - Loss: 0.709209680557251 - Accuracy: 53.84615659713745%\n"
          ]
        }
      ],
      "source": [
        "test_results = model.evaluate(X_test, Y_test, verbose=1)\n",
        "print(f'Test dataset - Loss: {test_results[0]} - Accuracy: {test_results[1]*100}%')\n"
      ]
    },
    {
      "cell_type": "markdown",
      "metadata": {
        "id": "m_i_bZyd7yq8"
      },
      "source": [
        "# Regression"
      ]
    },
    {
      "cell_type": "markdown",
      "metadata": {
        "id": "jQDjIQTD8vIS"
      },
      "source": [
        "## Support Vector Regressor (SVR)"
      ]
    },
    {
      "cell_type": "code",
      "execution_count": null,
      "metadata": {
        "colab": {
          "base_uri": "https://localhost:8080/",
          "height": 319
        },
        "id": "swYT-HNp83WX",
        "outputId": "c13ba2d5-3caf-41d3-e8e0-8195712fb882"
      },
      "outputs": [
        {
          "output_type": "execute_result",
          "data": {
            "text/plain": [
              "<matplotlib.axes._subplots.AxesSubplot at 0x7f6524356710>"
            ]
          },
          "metadata": {},
          "execution_count": 32
        },
        {
          "output_type": "display_data",
          "data": {
            "text/plain": [
              "<Figure size 432x288 with 1 Axes>"
            ],
            "image/png": "[encoded data removed]"
          },
          "metadata": {
            "needs_background": "light"
          }
        }
      ],
      "source": [
        "dfAll['Log-area']=np.log10(dfAll['area']+1)\n",
        "dfAll.boxplot(column='Log-area',by='month')"
      ]
    },
    {
      "cell_type": "code",
      "execution_count": null,
      "metadata": {
        "id": "THad2hsVD5HN"
      },
      "outputs": [],
      "source": [
        "def rec(m,n,tol):\n",
        "    if type(m)!='numpy.ndarray':\n",
        "        m=np.array(m)\n",
        "    if type(n)!='numpy.ndarray':\n",
        "        n=np.array(n)\n",
        "    l=m.size\n",
        "    percent = 0\n",
        "    for i in range(l):\n",
        "        if np.abs(10**m[i]-10**n[i])<=tol:\n",
        "            percent+=1\n",
        "    return 100*(percent/l)\n",
        "    \n",
        "X_data=dfAll.drop(['area','Log-area','month','day'],axis=1)\n",
        "y_data=dfAll['Log-area']\n",
        "scaler = StandardScaler()\n",
        "\n",
        "X_train, X_test, y_train, y_test = train_test_split(X_data, y_data, test_size=0.4)\n",
        "y_train=y_train.values.reshape(y_train.size,1)"
      ]
    },
    {
      "cell_type": "code",
      "execution_count": null,
      "metadata": {
        "colab": {
          "base_uri": "https://localhost:8080/"
        },
        "id": "R9jSp_fyEOAP",
        "outputId": "81d1ccb7-7f18-4bd9-c14d-252e3ba2bffd"
      },
      "outputs": [
        {
          "name": "stdout",
          "output_type": "stream",
          "text": [
            "Best parameters obtained by Grid Search: {'C': 0.1, 'epsilon': 1, 'kernel': 'sigmoid'}\n"
          ]
        }
      ],
      "source": [
        "param_grid = {'C': [0.001,0.01,0.1,1], 'epsilon': [10,1,0.1,0.01,0.001,0.0001], 'kernel': ['linear', 'poly', 'rbf', 'sigmoid']}\n",
        "grid_SVR = GridSearchCV(SVR(),param_grid,refit=True,verbose=0,cv=5)\n",
        "grid_SVR.fit(scaler.fit_transform(X_train),scaler.fit_transform(y_train))\n",
        "print(\"Best parameters obtained by Grid Search:\",grid_SVR.best_params_)"
      ]
    },
    {
      "cell_type": "code",
      "execution_count": null,
      "metadata": {
        "colab": {
          "base_uri": "https://localhost:8080/"
        },
        "id": "yJLpJPR-F1WM",
        "outputId": "fd259717-2c09-4c9c-fedf-9eb128a6c6f1"
      },
      "outputs": [
        {
          "name": "stdout",
          "output_type": "stream",
          "text": [
            "RMSE for Support Vector Regression: 0.7996053729076765\n"
          ]
        }
      ],
      "source": [
        "a=grid_SVR.predict(X_test)\n",
        "print(\"RMSE for Support Vector Regression:\",np.sqrt(np.mean((y_test-a)**2)))"
      ]
    },
    {
      "cell_type": "code",
      "execution_count": null,
      "metadata": {
        "colab": {
          "base_uri": "https://localhost:8080/",
          "height": 391
        },
        "id": "TRH1g7H8GEYC",
        "outputId": "883afdee-a2b6-40b5-85a7-2456669c099d"
      },
      "outputs": [
        {
          "data": {
            "text/plain": [
              "[<matplotlib.lines.Line2D at 0x7fc0819d8290>]"
            ]
          },
          "execution_count": 33,
          "metadata": {},
          "output_type": "execute_result"
        },
        {
          "data": {
            "image/png": "[encoded data removed]",
            "text/plain": [
              "<Figure size 360x360 with 1 Axes>"
            ]
          },
          "metadata": {},
          "output_type": "display_data"
        }
      ],
      "source": [
        "rec_SVR=[]\n",
        "for i in range(20):\n",
        "    rec_SVR.append(rec(a,y_test,i))\n",
        "\n",
        "plt.figure(figsize=(5,5))\n",
        "plt.title(\"REC curve for the Support Vector Regressor\\n\",fontsize=15)\n",
        "plt.xlabel(\"Absolute error (tolerance) in prediction ($ha$)\")\n",
        "plt.ylabel(\"Percentage of correct prediction\")\n",
        "plt.xticks([i*5 for i in range(21)])\n",
        "plt.ylim(-10,100)\n",
        "plt.yticks([i*20 for i in range(6)])\n",
        "plt.grid(True)\n",
        "plt.plot(range(20),rec_SVR)"
      ]
    },
    {
      "cell_type": "markdown",
      "metadata": {
        "id": "NutS8F19HMWh"
      },
      "source": [
        "## Decision Tree Regressor\n"
      ]
    },
    {
      "cell_type": "code",
      "execution_count": null,
      "metadata": {
        "colab": {
          "base_uri": "https://localhost:8080/"
        },
        "id": "GcWU2Gclom2l",
        "outputId": "b55a0e0d-391b-40cd-d405-f44ab03f749d"
      },
      "outputs": [
        {
          "name": "stdout",
          "output_type": "stream",
          "text": [
            "RMSE for Decision Tree: 0.7127777535075381\n"
          ]
        },
        {
          "name": "stderr",
          "output_type": "stream",
          "text": [
            "/usr/local/lib/python3.7/dist-packages/sklearn/tree/_classes.py:370: FutureWarning: Criterion 'mae' was deprecated in v1.0 and will be removed in version 1.2. Use `criterion='absolute_error'` which is equivalent.\n",
            "  FutureWarning,\n"
          ]
        }
      ],
      "source": [
        "tree_model = DecisionTreeRegressor(max_depth=10,criterion='mae')\n",
        "tree_model.fit(scaler.fit_transform(X_train),scaler.fit_transform(y_train))\n",
        "preds=tree_model.predict(X_test)\n",
        "print(\"RMSE for Decision Tree:\",np.sqrt(np.mean((y_test-preds)**2)))"
      ]
    },
    {
      "cell_type": "code",
      "execution_count": null,
      "metadata": {
        "colab": {
          "base_uri": "https://localhost:8080/",
          "height": 391
        },
        "id": "jRcl1oSio-Il",
        "outputId": "6d15cd46-d740-4d49-f2cb-a692173c7293"
      },
      "outputs": [
        {
          "data": {
            "text/plain": [
              "[<matplotlib.lines.Line2D at 0x7fc081df0fd0>]"
            ]
          },
          "execution_count": 23,
          "metadata": {},
          "output_type": "execute_result"
        },
        {
          "data": {
            "image/png": "[encoded data removed]",
            "text/plain": [
              "<Figure size 360x360 with 1 Axes>"
            ]
          },
          "metadata": {},
          "output_type": "display_data"
        }
      ],
      "source": [
        "rec_DT=[]\n",
        "for i in range(20):\n",
        "    rec_DT.append(rec(preds,y_test,i))\n",
        "\n",
        "plt.figure(figsize=(5,5))\n",
        "plt.title(\"REC curve for the single Decision Tree\\n\",fontsize=15)\n",
        "plt.xlabel(\"Absolute error (tolerance) in prediction ($ha$)\")\n",
        "plt.ylabel(\"Percentage of correct prediction\")\n",
        "plt.xticks([i for i in range(0,21,5)])\n",
        "plt.ylim(-10,100)\n",
        "plt.yticks([i*20 for i in range(6)])\n",
        "plt.grid(True)\n",
        "plt.plot(range(20),rec_DT)"
      ]
    },
    {
      "cell_type": "markdown",
      "metadata": {
        "id": "IUNCLcJ0pHQZ"
      },
      "source": [
        "## Random Forest Regressor"
      ]
    },
    {
      "cell_type": "code",
      "execution_count": null,
      "metadata": {
        "colab": {
          "base_uri": "https://localhost:8080/"
        },
        "id": "Nf-jlJz4pKvB",
        "outputId": "46d72545-1277-482d-dcb8-9dc7b5a83164"
      },
      "outputs": [
        {
          "output_type": "stream",
          "name": "stdout",
          "text": [
            "Best parameters obtained by Grid Search: {'max_depth': 10, 'max_leaf_nodes': 2, 'min_samples_leaf': 2, 'min_samples_split': 2}\n"
          ]
        }
      ],
      "source": [
        "param_grid = {'max_depth': [2,5,10,15,20,50], 'max_leaf_nodes': [2,5,8,10], 'min_samples_leaf': [2,5,8,10],\n",
        "             'min_samples_split':[2,5,8,10]}\n",
        "grid_RF = GridSearchCV(RandomForestRegressor(),param_grid,refit=True,verbose=0,cv=5)\n",
        "grid_RF.fit(X_train,y_train)\n",
        "print(\"Best parameters obtained by Grid Search:\",grid_RF.best_params_)"
      ]
    },
    {
      "cell_type": "code",
      "execution_count": null,
      "metadata": {
        "colab": {
          "base_uri": "https://localhost:8080/"
        },
        "id": "vgt5D58rpeSH",
        "outputId": "63c66d12-9e66-4f10-dac3-cfe16977ac91"
      },
      "outputs": [
        {
          "name": "stdout",
          "output_type": "stream",
          "text": [
            "RMSE for Random Forest: 0.6566727569247165\n"
          ]
        }
      ],
      "source": [
        "preds=grid_RF.predict(X_test)\n",
        "rmse_rf=np.sqrt(np.mean((y_test-preds)**2))\n",
        "print(\"RMSE for Random Forest:\",rmse_rf)"
      ]
    },
    {
      "cell_type": "code",
      "execution_count": null,
      "metadata": {
        "colab": {
          "base_uri": "https://localhost:8080/",
          "height": 391
        },
        "id": "49h2HxIFpkIM",
        "outputId": "6a299479-7d75-4bd8-b76e-5309589d73eb"
      },
      "outputs": [
        {
          "data": {
            "text/plain": [
              "[<matplotlib.lines.Line2D at 0x7fc081c36910>]"
            ]
          },
          "execution_count": 27,
          "metadata": {},
          "output_type": "execute_result"
        },
        {
          "data": {
            "image/png": "[encoded data removed]",
            "text/plain": [
              "<Figure size 360x360 with 1 Axes>"
            ]
          },
          "metadata": {},
          "output_type": "display_data"
        }
      ],
      "source": [
        "rec_RF=[]\n",
        "for i in range(20):\n",
        "    rec_RF.append(rec(a,y_test,i))\n",
        "\n",
        "plt.figure(figsize=(5,5))\n",
        "plt.title(\"REC curve for the Random Forest\\n\",fontsize=15)\n",
        "plt.xlabel(\"Absolute error (tolerance) in prediction ($ha$)\")\n",
        "plt.ylabel(\"Percentage of correct prediction\")\n",
        "plt.xticks([i for i in range(0,21,5)])\n",
        "plt.ylim(-10,100)\n",
        "plt.yticks([i*20 for i in range(6)])\n",
        "plt.grid(True)\n",
        "plt.plot(range(20),rec_RF)"
      ]
    },
    {
      "cell_type": "markdown",
      "metadata": {
        "id": "gG4HuKiOps7J"
      },
      "source": [
        "## Comparison of relative performances"
      ]
    },
    {
      "cell_type": "code",
      "execution_count": null,
      "metadata": {
        "colab": {
          "base_uri": "https://localhost:8080/",
          "height": 570
        },
        "id": "WR77NWibpsj_",
        "outputId": "3ffaafd4-0c44-486d-d91c-b0371ba0007c"
      },
      "outputs": [
        {
          "data": {
            "text/plain": [
              "<matplotlib.legend.Legend at 0x7fc08191d110>"
            ]
          },
          "execution_count": 34,
          "metadata": {},
          "output_type": "execute_result"
        },
        {
          "data": {
            "image/png": "[encoded data removed]",
            "text/plain": [
              "<Figure size 720x576 with 1 Axes>"
            ]
          },
          "metadata": {},
          "output_type": "display_data"
        }
      ],
      "source": [
        "plt.figure(figsize=(10,8))\n",
        "plt.title(\"REC curve comparing different models\\n\",fontsize=20)\n",
        "plt.xlabel(\"Absolute error in prediction ($ha$)\",fontsize=15)\n",
        "plt.ylabel(\"% of correct prediction\",fontsize=15)\n",
        "plt.xticks([i for i in range(0,21,1)],fontsize=13)\n",
        "plt.ylim(-10,100)\n",
        "plt.xlim(-2,20)\n",
        "plt.yticks([i*20 for i in range(6)],fontsize=18)\n",
        "plt.grid(True)\n",
        "plt.plot(range(20),rec_SVR,'--',lw=3)\n",
        "plt.plot(range(20),rec_DT,'*-',lw=3)\n",
        "plt.plot(range(20),rec_RF,'o-',lw=3)\n",
        "plt.legend(['SVR','Decision Tree','Random Forest'],fontsize=13)"
      ]
    },
    {
      "cell_type": "markdown",
      "metadata": {
        "id": "_6mXZu-kk0D5"
      },
      "source": [
        "# NN Models"
      ]
    },
    {
      "cell_type": "code",
      "execution_count": null,
      "metadata": {
        "colab": {
          "base_uri": "https://localhost:8080/",
          "height": 424
        },
        "id": "hw-LHaGskv4a",
        "outputId": "f5e81db7-68b8-4b83-f5a2-7916dd79be86"
      },
      "outputs": [
        {
          "data": {
            "text/html": [
              "\n",
              "  <div id=\"df-d9fa7ed7-3bf4-4761-871f-ab2b52021213\">\n",
              "    <div class=\"colab-df-container\">\n",
              "      <div>\n",
              "<style scoped>\n",
              "    .dataframe tbody tr th:only-of-type {\n",
              "        vertical-align: middle;\n",
              "    }\n",
              "\n",
              "    .dataframe tbody tr th {\n",
              "        vertical-align: top;\n",
              "    }\n",
              "\n",
              "    .dataframe thead th {\n",
              "        text-align: right;\n",
              "    }\n",
              "</style>\n",
              "<table border=\"1\" class=\"dataframe\">\n",
              "  <thead>\n",
              "    <tr style=\"text-align: right;\">\n",
              "      <th></th>\n",
              "      <th>X</th>\n",
              "      <th>Y</th>\n",
              "      <th>month</th>\n",
              "      <th>day</th>\n",
              "      <th>FFMC</th>\n",
              "      <th>DMC</th>\n",
              "      <th>DC</th>\n",
              "      <th>ISI</th>\n",
              "      <th>temp</th>\n",
              "      <th>RH</th>\n",
              "      <th>wind</th>\n",
              "      <th>rain</th>\n",
              "    </tr>\n",
              "  </thead>\n",
              "  <tbody>\n",
              "    <tr>\n",
              "      <th>0</th>\n",
              "      <td>1.008313</td>\n",
              "      <td>0.569860</td>\n",
              "      <td>-1.968443</td>\n",
              "      <td>0.357721</td>\n",
              "      <td>-0.805959</td>\n",
              "      <td>-1.323326</td>\n",
              "      <td>-1.830477</td>\n",
              "      <td>-0.860946</td>\n",
              "      <td>-1.842640</td>\n",
              "      <td>0.411724</td>\n",
              "      <td>1.498614</td>\n",
              "      <td>-0.073268</td>\n",
              "    </tr>\n",
              "    <tr>\n",
              "      <th>1</th>\n",
              "      <td>1.008313</td>\n",
              "      <td>-0.244001</td>\n",
              "      <td>1.110120</td>\n",
              "      <td>-1.090909</td>\n",
              "      <td>-0.008102</td>\n",
              "      <td>-1.179541</td>\n",
              "      <td>0.488891</td>\n",
              "      <td>-0.509688</td>\n",
              "      <td>-0.153278</td>\n",
              "      <td>-0.692456</td>\n",
              "      <td>-1.741756</td>\n",
              "      <td>-0.073268</td>\n",
              "    </tr>\n",
              "    <tr>\n",
              "      <th>2</th>\n",
              "      <td>1.008313</td>\n",
              "      <td>-0.244001</td>\n",
              "      <td>1.110120</td>\n",
              "      <td>0.840597</td>\n",
              "      <td>-0.008102</td>\n",
              "      <td>-1.049822</td>\n",
              "      <td>0.560715</td>\n",
              "      <td>-0.509688</td>\n",
              "      <td>-0.739383</td>\n",
              "      <td>-0.692456</td>\n",
              "      <td>-1.518282</td>\n",
              "      <td>-0.073268</td>\n",
              "    </tr>\n",
              "    <tr>\n",
              "      <th>3</th>\n",
              "      <td>1.440925</td>\n",
              "      <td>1.383722</td>\n",
              "      <td>-1.968443</td>\n",
              "      <td>0.357721</td>\n",
              "      <td>0.191362</td>\n",
              "      <td>-1.212361</td>\n",
              "      <td>-1.898266</td>\n",
              "      <td>-0.004756</td>\n",
              "      <td>-1.825402</td>\n",
              "      <td>3.233519</td>\n",
              "      <td>-0.009834</td>\n",
              "      <td>0.603155</td>\n",
              "    </tr>\n",
              "    <tr>\n",
              "      <th>4</th>\n",
              "      <td>1.440925</td>\n",
              "      <td>1.383722</td>\n",
              "      <td>-1.968443</td>\n",
              "      <td>1.323474</td>\n",
              "      <td>-0.243833</td>\n",
              "      <td>-0.931043</td>\n",
              "      <td>-1.798600</td>\n",
              "      <td>0.126966</td>\n",
              "      <td>-1.291012</td>\n",
              "      <td>3.356206</td>\n",
              "      <td>-1.238940</td>\n",
              "      <td>-0.073268</td>\n",
              "    </tr>\n",
              "    <tr>\n",
              "      <th>...</th>\n",
              "      <td>...</td>\n",
              "      <td>...</td>\n",
              "      <td>...</td>\n",
              "      <td>...</td>\n",
              "      <td>...</td>\n",
              "      <td>...</td>\n",
              "      <td>...</td>\n",
              "      <td>...</td>\n",
              "      <td>...</td>\n",
              "      <td>...</td>\n",
              "      <td>...</td>\n",
              "      <td>...</td>\n",
              "    </tr>\n",
              "    <tr>\n",
              "      <th>512</th>\n",
              "      <td>-0.289524</td>\n",
              "      <td>-1.057862</td>\n",
              "      <td>0.230531</td>\n",
              "      <td>1.323474</td>\n",
              "      <td>-1.640083</td>\n",
              "      <td>-0.846648</td>\n",
              "      <td>0.474768</td>\n",
              "      <td>-1.563460</td>\n",
              "      <td>1.536084</td>\n",
              "      <td>-0.753800</td>\n",
              "      <td>-0.736124</td>\n",
              "      <td>-0.073268</td>\n",
              "    </tr>\n",
              "    <tr>\n",
              "      <th>513</th>\n",
              "      <td>-1.154748</td>\n",
              "      <td>-0.244001</td>\n",
              "      <td>0.230531</td>\n",
              "      <td>1.323474</td>\n",
              "      <td>-1.640083</td>\n",
              "      <td>-0.846648</td>\n",
              "      <td>0.474768</td>\n",
              "      <td>-1.563460</td>\n",
              "      <td>0.519019</td>\n",
              "      <td>1.638592</td>\n",
              "      <td>0.995798</td>\n",
              "      <td>-0.073268</td>\n",
              "    </tr>\n",
              "    <tr>\n",
              "      <th>514</th>\n",
              "      <td>1.008313</td>\n",
              "      <td>-0.244001</td>\n",
              "      <td>0.230531</td>\n",
              "      <td>1.323474</td>\n",
              "      <td>-1.640083</td>\n",
              "      <td>-0.846648</td>\n",
              "      <td>0.474768</td>\n",
              "      <td>-1.563460</td>\n",
              "      <td>0.398350</td>\n",
              "      <td>1.577248</td>\n",
              "      <td>1.498614</td>\n",
              "      <td>-0.073268</td>\n",
              "    </tr>\n",
              "    <tr>\n",
              "      <th>515</th>\n",
              "      <td>-1.587360</td>\n",
              "      <td>-0.244001</td>\n",
              "      <td>0.230531</td>\n",
              "      <td>0.840597</td>\n",
              "      <td>0.680957</td>\n",
              "      <td>0.549003</td>\n",
              "      <td>0.269382</td>\n",
              "      <td>0.500176</td>\n",
              "      <td>1.156839</td>\n",
              "      <td>-0.140366</td>\n",
              "      <td>-0.009834</td>\n",
              "      <td>-0.073268</td>\n",
              "    </tr>\n",
              "    <tr>\n",
              "      <th>516</th>\n",
              "      <td>0.575701</td>\n",
              "      <td>-1.057862</td>\n",
              "      <td>1.549915</td>\n",
              "      <td>-1.090909</td>\n",
              "      <td>-2.020879</td>\n",
              "      <td>-1.685913</td>\n",
              "      <td>-1.780442</td>\n",
              "      <td>-1.739089</td>\n",
              "      <td>-1.222058</td>\n",
              "      <td>-0.815143</td>\n",
              "      <td>0.269509</td>\n",
              "      <td>-0.073268</td>\n",
              "    </tr>\n",
              "  </tbody>\n",
              "</table>\n",
              "<p>517 rows × 12 columns</p>\n",
              "</div>\n",
              "      <button class=\"colab-df-convert\" onclick=\"convertToInteractive('df-d9fa7ed7-3bf4-4761-871f-ab2b52021213')\"\n",
              "              title=\"Convert this dataframe to an interactive table.\"\n",
              "              style=\"display:none;\">\n",
              "        \n",
              "  <svg xmlns=\"http://www.w3.org/2000/svg\" height=\"24px\"viewBox=\"0 0 24 24\"\n",
              "       width=\"24px\">\n",
              "    <path d=\"M0 0h24v24H0V0z\" fill=\"none\"/>\n",
              "    <path d=\"M18.56 5.44l.94 2.06.94-2.06 2.06-.94-2.06-.94-.94-2.06-.94 2.06-2.06.94zm-11 1L8.5 8.5l.94-2.06 2.06-.94-2.06-.94L8.5 2.5l-.94 2.06-2.06.94zm10 10l.94 2.06.94-2.06 2.06-.94-2.06-.94-.94-2.06-.94 2.06-2.06.94z\"/><path d=\"M17.41 7.96l-1.37-1.37c-.4-.4-.92-.59-1.43-.59-.52 0-1.04.2-1.43.59L10.3 9.45l-7.72 7.72c-.78.78-.78 2.05 0 2.83L4 21.41c.39.39.9.59 1.41.59.51 0 1.02-.2 1.41-.59l7.78-7.78 2.81-2.81c.8-.78.8-2.07 0-2.86zM5.41 20L4 18.59l7.72-7.72 1.47 1.35L5.41 20z\"/>\n",
              "  </svg>\n",
              "      </button>\n",
              "      \n",
              "  <style>\n",
              "    .colab-df-container {\n",
              "      display:flex;\n",
              "      flex-wrap:wrap;\n",
              "      gap: 12px;\n",
              "    }\n",
              "\n",
              "    .colab-df-convert {\n",
              "      background-color: #E8F0FE;\n",
              "      border: none;\n",
              "      border-radius: 50%;\n",
              "      cursor: pointer;\n",
              "      display: none;\n",
              "      fill: #1967D2;\n",
              "      height: 32px;\n",
              "      padding: 0 0 0 0;\n",
              "      width: 32px;\n",
              "    }\n",
              "\n",
              "    .colab-df-convert:hover {\n",
              "      background-color: #E2EBFA;\n",
              "      box-shadow: 0px 1px 2px rgba(60, 64, 67, 0.3), 0px 1px 3px 1px rgba(60, 64, 67, 0.15);\n",
              "      fill: #174EA6;\n",
              "    }\n",
              "\n",
              "    [theme=dark] .colab-df-convert {\n",
              "      background-color: #3B4455;\n",
              "      fill: #D2E3FC;\n",
              "    }\n",
              "\n",
              "    [theme=dark] .colab-df-convert:hover {\n",
              "      background-color: #434B5C;\n",
              "      box-shadow: 0px 1px 3px 1px rgba(0, 0, 0, 0.15);\n",
              "      filter: drop-shadow(0px 1px 2px rgba(0, 0, 0, 0.3));\n",
              "      fill: #FFFFFF;\n",
              "    }\n",
              "  </style>\n",
              "\n",
              "      <script>\n",
              "        const buttonEl =\n",
              "          document.querySelector('#df-d9fa7ed7-3bf4-4761-871f-ab2b52021213 button.colab-df-convert');\n",
              "        buttonEl.style.display =\n",
              "          google.colab.kernel.accessAllowed ? 'block' : 'none';\n",
              "\n",
              "        async function convertToInteractive(key) {\n",
              "          const element = document.querySelector('#df-d9fa7ed7-3bf4-4761-871f-ab2b52021213');\n",
              "          const dataTable =\n",
              "            await google.colab.kernel.invokeFunction('convertToInteractive',\n",
              "                                                     [key], {});\n",
              "          if (!dataTable) return;\n",
              "\n",
              "          const docLinkHtml = 'Like what you see? Visit the ' +\n",
              "            '<a target=\"_blank\" href=https://colab.research.google.com/notebooks/data_table.ipynb>data table notebook</a>'\n",
              "            + ' to learn more about interactive tables.';\n",
              "          element.innerHTML = '';\n",
              "          dataTable['output_type'] = 'display_data';\n",
              "          await google.colab.output.renderOutput(dataTable, element);\n",
              "          const docLink = document.createElement('div');\n",
              "          docLink.innerHTML = docLinkHtml;\n",
              "          element.appendChild(docLink);\n",
              "        }\n",
              "      </script>\n",
              "    </div>\n",
              "  </div>\n",
              "  "
            ],
            "text/plain": [
              "            X         Y     month       day      FFMC       DMC        DC  \\\n",
              "0    1.008313  0.569860 -1.968443  0.357721 -0.805959 -1.323326 -1.830477   \n",
              "1    1.008313 -0.244001  1.110120 -1.090909 -0.008102 -1.179541  0.488891   \n",
              "2    1.008313 -0.244001  1.110120  0.840597 -0.008102 -1.049822  0.560715   \n",
              "3    1.440925  1.383722 -1.968443  0.357721  0.191362 -1.212361 -1.898266   \n",
              "4    1.440925  1.383722 -1.968443  1.323474 -0.243833 -0.931043 -1.798600   \n",
              "..        ...       ...       ...       ...       ...       ...       ...   \n",
              "512 -0.289524 -1.057862  0.230531  1.323474 -1.640083 -0.846648  0.474768   \n",
              "513 -1.154748 -0.244001  0.230531  1.323474 -1.640083 -0.846648  0.474768   \n",
              "514  1.008313 -0.244001  0.230531  1.323474 -1.640083 -0.846648  0.474768   \n",
              "515 -1.587360 -0.244001  0.230531  0.840597  0.680957  0.549003  0.269382   \n",
              "516  0.575701 -1.057862  1.549915 -1.090909 -2.020879 -1.685913 -1.780442   \n",
              "\n",
              "          ISI      temp        RH      wind      rain  \n",
              "0   -0.860946 -1.842640  0.411724  1.498614 -0.073268  \n",
              "1   -0.509688 -0.153278 -0.692456 -1.741756 -0.073268  \n",
              "2   -0.509688 -0.739383 -0.692456 -1.518282 -0.073268  \n",
              "3   -0.004756 -1.825402  3.233519 -0.009834  0.603155  \n",
              "4    0.126966 -1.291012  3.356206 -1.238940 -0.073268  \n",
              "..        ...       ...       ...       ...       ...  \n",
              "512 -1.563460  1.536084 -0.753800 -0.736124 -0.073268  \n",
              "513 -1.563460  0.519019  1.638592  0.995798 -0.073268  \n",
              "514 -1.563460  0.398350  1.577248  1.498614 -0.073268  \n",
              "515  0.500176  1.156839 -0.140366 -0.009834 -0.073268  \n",
              "516 -1.739089 -1.222058 -0.815143  0.269509 -0.073268  \n",
              "\n",
              "[517 rows x 12 columns]"
            ]
          },
          "execution_count": 5,
          "metadata": {},
          "output_type": "execute_result"
        }
      ],
      "source": [
        "feat = dfAll\n",
        "y = feat.pop('area')\n",
        "\n",
        "scaler = StandardScaler()\n",
        "X = pd.DataFrame(scaler.fit_transform(feat), columns=feat.columns)\n",
        "X = X.astype(float)\n",
        "X"
      ]
    },
    {
      "cell_type": "code",
      "execution_count": null,
      "metadata": {
        "id": "pDWooiZik3Q4"
      },
      "outputs": [],
      "source": [
        "import torch\n",
        "import torch.nn as nn\n",
        "import torch.nn.functional as F\n",
        "import torch.optim as optim\n",
        "\n",
        "\n",
        "class customDataset:\n",
        "  def __init__(self,features,target):\n",
        "    self.features=features\n",
        "    self.target=target\n",
        "\n",
        "  def __len__(self):\n",
        "    return len(self.features)\n",
        "\n",
        "  def __getitem__(self,idx):\n",
        "    current_sample = self.features[idx,:]\n",
        "    current_target = self.target[idx]\n",
        "    return torch.tensor(current_sample,dtype=torch.float),torch.tensor(current_target,dtype=torch.float)\n",
        "    \n"
      ]
    },
    {
      "cell_type": "markdown",
      "metadata": {
        "id": "l6UzZyUIk_5t"
      },
      "source": [
        "## Histogram of area burnt"
      ]
    },
    {
      "cell_type": "code",
      "execution_count": null,
      "metadata": {
        "colab": {
          "base_uri": "https://localhost:8080/",
          "height": 621
        },
        "id": "kzGa-j8tlCur",
        "outputId": "5a60943c-ff4c-48eb-fc66-08cd22311af3"
      },
      "outputs": [
        {
          "data": {
            "image/png": "[encoded data removed]",
            "text/plain": [
              "<Figure size 1080x720 with 1 Axes>"
            ]
          },
          "metadata": {},
          "output_type": "display_data"
        }
      ],
      "source": [
        "\n",
        "plt.figure(figsize=(15,10))\n",
        "plt.hist(y,bins=100)\n",
        "plt.xlabel(\"area burned\")\n",
        "plt.title(\"histogram of area burned\")\n",
        "plt.show()\n",
        "\n",
        "\n"
      ]
    },
    {
      "cell_type": "markdown",
      "metadata": {
        "id": "4J4PFmCQlJa7"
      },
      "source": [
        "Here we can see from above histogram, target lable \"area\" is skewed so we have to use log-transformation to make it as normal so that the statistical analysis become more valid"
      ]
    },
    {
      "cell_type": "code",
      "execution_count": null,
      "metadata": {
        "id": "XuTvbhtjlSMY"
      },
      "outputs": [],
      "source": [
        "\n",
        "X_train, X_test, y_train, y_test = train_test_split(X, y, test_size=0.25,random_state=1)\n",
        "\n",
        "y_train[y_train>=0]=np.log10(y_train+1)\n",
        "y_test[y_test>=0]=np.log10(y_test+1)\n",
        "\n",
        "\n",
        "\n",
        "\n",
        "train = customDataset(X_train.to_numpy(),y_train.to_numpy())\n",
        "test = customDataset(X_test.to_numpy(),y_test.to_numpy())\n",
        "\n",
        "train_loader = torch.utils.data.DataLoader(train,batch_size=10,num_workers=2)\n",
        "test_loader = torch.utils.data.DataLoader(test,batch_size=10,num_workers=2)\n",
        "\n",
        "\n",
        "device = torch.device(\"cuda\" if torch.cuda.is_available() else \"cpu\")"
      ]
    },
    {
      "cell_type": "markdown",
      "metadata": {
        "id": "72y3JN9HlS8G"
      },
      "source": [
        "## MLP Regressor"
      ]
    },
    {
      "cell_type": "code",
      "execution_count": null,
      "metadata": {
        "colab": {
          "base_uri": "https://localhost:8080/"
        },
        "id": "RuWw6-YolbaP",
        "outputId": "91c72040-3bca-4ec3-d772-381155b56cb3"
      },
      "outputs": [
        {
          "name": "stdout",
          "output_type": "stream",
          "text": [
            "MLP(\n",
            "  (fc1): Linear(in_features=12, out_features=64, bias=True)\n",
            "  (fc2): Linear(in_features=64, out_features=32, bias=True)\n",
            "  (fc3): Linear(in_features=32, out_features=1, bias=True)\n",
            "  (dropout): Dropout(p=0.2, inplace=False)\n",
            ")\n"
          ]
        }
      ],
      "source": [
        "class MLP(nn.Module):\n",
        "    def __init__(self):\n",
        "        super(MLP, self).__init__()\n",
        "        self.fc1 = nn.Linear(12,64)\n",
        "        #nn.init.uniform_(self.fc1.weight,a=0.0,b=1.0)\n",
        "        self.fc2 = nn.Linear(64,32)\n",
        "        #nn.init.uniform_(self.fc2.weight,a=0.0,b=1.0)\n",
        "        self.fc3 = nn.Linear(32,1)\n",
        "        #nn.init.uniform_(self.fc3.weight,a=0.0,b=1.0)\n",
        "        self.dropout = nn.Dropout(0.2)\n",
        "\n",
        "    def forward(self, x):\n",
        "        x = x.view(-1 , 12)\n",
        "        x = F.relu(self.fc1(x))\n",
        "        x = self.dropout(x)\n",
        "        x = F.relu(self.fc2(x))\n",
        "        x = self.dropout(x)\n",
        "        x = self.fc3(x)\n",
        "        return x\n",
        "\n",
        "mlp = MLP().to(device)\n",
        "criterian = nn.MSELoss()\n",
        "optimizer = torch.optim.Adam(mlp.parameters(), lr=0.0001)\n",
        "print(mlp)\n"
      ]
    },
    {
      "cell_type": "code",
      "execution_count": null,
      "metadata": {
        "colab": {
          "base_uri": "https://localhost:8080/"
        },
        "id": "cASLam3_lkRh",
        "outputId": "c1b2db79-921f-4388-ca23-cd6b56773fd0"
      },
      "outputs": [
        {
          "name": "stdout",
          "output_type": "stream",
          "text": [
            "Epoch:[1/100], Loss:0.5663\n",
            "Epoch:[2/100], Loss:0.5089\n",
            "Epoch:[3/100], Loss:0.4743\n",
            "Epoch:[4/100], Loss:0.4544\n",
            "Epoch:[5/100], Loss:0.4380\n",
            "Epoch:[6/100], Loss:0.4066\n",
            "Epoch:[7/100], Loss:0.4057\n",
            "Epoch:[8/100], Loss:0.4063\n",
            "Epoch:[9/100], Loss:0.3945\n",
            "Epoch:[10/100], Loss:0.4002\n",
            "Epoch:[11/100], Loss:0.3768\n",
            "Epoch:[12/100], Loss:0.3837\n",
            "Epoch:[13/100], Loss:0.3753\n",
            "Epoch:[14/100], Loss:0.3867\n",
            "Epoch:[15/100], Loss:0.3759\n",
            "Epoch:[16/100], Loss:0.3639\n",
            "Epoch:[17/100], Loss:0.3687\n",
            "Epoch:[18/100], Loss:0.3675\n",
            "Epoch:[19/100], Loss:0.3693\n",
            "Epoch:[20/100], Loss:0.3635\n",
            "Epoch:[21/100], Loss:0.3811\n",
            "Epoch:[22/100], Loss:0.3722\n",
            "Epoch:[23/100], Loss:0.3729\n",
            "Epoch:[24/100], Loss:0.3607\n",
            "Epoch:[25/100], Loss:0.3696\n",
            "Epoch:[26/100], Loss:0.3634\n",
            "Epoch:[27/100], Loss:0.3677\n",
            "Epoch:[28/100], Loss:0.3605\n",
            "Epoch:[29/100], Loss:0.3592\n",
            "Epoch:[30/100], Loss:0.3525\n",
            "Epoch:[31/100], Loss:0.3459\n",
            "Epoch:[32/100], Loss:0.3653\n",
            "Epoch:[33/100], Loss:0.3551\n",
            "Epoch:[34/100], Loss:0.3460\n",
            "Epoch:[35/100], Loss:0.3427\n",
            "Epoch:[36/100], Loss:0.3555\n",
            "Epoch:[37/100], Loss:0.3530\n",
            "Epoch:[38/100], Loss:0.3601\n",
            "Epoch:[39/100], Loss:0.3498\n",
            "Epoch:[40/100], Loss:0.3595\n",
            "Epoch:[41/100], Loss:0.3549\n",
            "Epoch:[42/100], Loss:0.3469\n",
            "Epoch:[43/100], Loss:0.3584\n",
            "Epoch:[44/100], Loss:0.3471\n",
            "Epoch:[45/100], Loss:0.3619\n",
            "Epoch:[46/100], Loss:0.3543\n",
            "Epoch:[47/100], Loss:0.3589\n",
            "Epoch:[48/100], Loss:0.3508\n",
            "Epoch:[49/100], Loss:0.3414\n",
            "Epoch:[50/100], Loss:0.3530\n",
            "Epoch:[51/100], Loss:0.3468\n",
            "Epoch:[52/100], Loss:0.3424\n",
            "Epoch:[53/100], Loss:0.3596\n",
            "Epoch:[54/100], Loss:0.3551\n",
            "Epoch:[55/100], Loss:0.3489\n",
            "Epoch:[56/100], Loss:0.3461\n",
            "Epoch:[57/100], Loss:0.3483\n",
            "Epoch:[58/100], Loss:0.3583\n",
            "Epoch:[59/100], Loss:0.3382\n",
            "Epoch:[60/100], Loss:0.3433\n",
            "Epoch:[61/100], Loss:0.3477\n",
            "Epoch:[62/100], Loss:0.3536\n",
            "Epoch:[63/100], Loss:0.3438\n",
            "Epoch:[64/100], Loss:0.3571\n",
            "Epoch:[65/100], Loss:0.3410\n",
            "Epoch:[66/100], Loss:0.3408\n",
            "Epoch:[67/100], Loss:0.3330\n",
            "Epoch:[68/100], Loss:0.3227\n",
            "Epoch:[69/100], Loss:0.3451\n",
            "Epoch:[70/100], Loss:0.3500\n",
            "Epoch:[71/100], Loss:0.3433\n",
            "Epoch:[72/100], Loss:0.3383\n",
            "Epoch:[73/100], Loss:0.3334\n",
            "Epoch:[74/100], Loss:0.3349\n",
            "Epoch:[75/100], Loss:0.3305\n",
            "Epoch:[76/100], Loss:0.3483\n",
            "Epoch:[77/100], Loss:0.3386\n",
            "Epoch:[78/100], Loss:0.3462\n",
            "Epoch:[79/100], Loss:0.3329\n",
            "Epoch:[80/100], Loss:0.3279\n",
            "Epoch:[81/100], Loss:0.3469\n",
            "Epoch:[82/100], Loss:0.3408\n",
            "Epoch:[83/100], Loss:0.3354\n",
            "Epoch:[84/100], Loss:0.3409\n",
            "Epoch:[85/100], Loss:0.3504\n",
            "Epoch:[86/100], Loss:0.3443\n",
            "Epoch:[87/100], Loss:0.3316\n",
            "Epoch:[88/100], Loss:0.3326\n",
            "Epoch:[89/100], Loss:0.3222\n",
            "Epoch:[90/100], Loss:0.3328\n",
            "Epoch:[91/100], Loss:0.3386\n",
            "Epoch:[92/100], Loss:0.3343\n",
            "Epoch:[93/100], Loss:0.3300\n",
            "Epoch:[94/100], Loss:0.3366\n",
            "Epoch:[95/100], Loss:0.3414\n",
            "Epoch:[96/100], Loss:0.3362\n",
            "Epoch:[97/100], Loss:0.3347\n",
            "Epoch:[98/100], Loss:0.3399\n",
            "Epoch:[99/100], Loss:0.3231\n",
            "Epoch:[100/100], Loss:0.3268\n",
            "Loss of test dataset:0.0128\n"
          ]
        }
      ],
      "source": [
        "num_epochs = 100\n",
        "best_train_loss = float('inf')\n",
        "\n",
        "mlp.train()\n",
        "\n",
        "for epoch in range(num_epochs):\n",
        "    running_loss = 0.0\n",
        "    for i, data in enumerate(train_loader, 0):\n",
        "      features, target = data\n",
        "      target = target.reshape((target.shape[0], 1))\n",
        "      features = features.to(device)\n",
        "      target = target.to(device)\n",
        "      outputs = mlp(features)\n",
        "      loss = criterian(outputs, target)\n",
        "      optimizer.zero_grad()\n",
        "      loss.backward()\n",
        "      running_loss += loss.item()\n",
        "      optimizer.step()\n",
        "\n",
        "\n",
        "    loss = running_loss / len(train_loader)\n",
        "    print(f'Epoch:[{epoch+1}/{num_epochs}], Loss:{loss:.4f}')\n",
        "    if best_train_loss > loss:\n",
        "      best_train_loss = loss\n",
        "      PATH = './mlp.pth'\n",
        "      torch.save(mlp.state_dict(), PATH)\n",
        "  \n",
        "mlp.eval()\n",
        "with torch.no_grad():\n",
        "    for i, data in enumerate(test_loader, 0):\n",
        "      running_loss=0.0\n",
        "      features, target = data\n",
        "      target = target.reshape((target.shape[0], 1))\n",
        "      features = features.to(device)\n",
        "      target = target.to(device)\n",
        "      outputs = mlp(features)\n",
        "      loss = criterian(outputs, target)\n",
        "      optimizer.zero_grad()\n",
        "      running_loss += loss.item()\n",
        "      optimizer.step()\n",
        "    \n",
        "\n",
        "    loss = running_loss / len(test_loader)\n",
        "    print(f'Loss of test dataset:{loss:.4f}')\n"
      ]
    }
  ],
  "metadata": {
    "colab": {
      "collapsed_sections": [
        "cSJzRxLPfM0c",
        "6wlgyv9UfTXZ",
        "tx9ESgFyHbAy",
        "QnFqX-lkE4yx",
        "Zvl36jb1G_Mg",
        "fUyQrC7stgMn",
        "r2fA4oMPtpkU",
        "kvFwykIeJs8W",
        "JHovyQ2oOC2b",
        "FZR6SBAlRSEg",
        "0msHdnnEnf8L",
        "jQDjIQTD8vIS",
        "NutS8F19HMWh",
        "IUNCLcJ0pHQZ",
        "gG4HuKiOps7J",
        "_6mXZu-kk0D5",
        "l6UzZyUIk_5t",
        "72y3JN9HlS8G"
      ],
      "name": "FF.ipynb",
      "provenance": [],
      "include_colab_link": true
    },
    "kernelspec": {
      "display_name": "Python 3",
      "name": "python3"
    },
    "language_info": {
      "name": "python"
    }
  },
  "nbformat": 4,
  "nbformat_minor": 0
}